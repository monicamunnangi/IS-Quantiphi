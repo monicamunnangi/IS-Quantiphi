{
 "cells": [
  {
   "cell_type": "code",
   "execution_count": 27,
   "metadata": {},
   "outputs": [],
   "source": [
    "import pandas as pd\n",
    "import numpy as np\n",
    "import seaborn as sns\n",
    "import matplotlib.pyplot as plt\n",
    "import time\n",
    "import glob\n",
    "import pickle\n",
    "from sklearn.model_selection import train_test_split\n",
    "from sklearn.ensemble import RandomForestClassifier\n",
    "from sklearn.ensemble import RandomForestRegressor\n",
    "from sklearn.metrics import f1_score,confusion_matrix\n",
    "from sklearn.metrics import accuracy_score\n",
    "from sklearn.metrics import average_precision_score\n",
    "from sklearn.metrics import recall_score, precision_score, mean_squared_error\n",
    "from sklearn import svm, datasets\n",
    "from sklearn.model_selection import train_test_split"
   ]
  },
  {
   "cell_type": "code",
   "execution_count": 3,
   "metadata": {},
   "outputs": [],
   "source": [
    "data_p1 = pd.read_csv('patients_A_norm.csv')"
   ]
  },
  {
   "cell_type": "code",
   "execution_count": 4,
   "metadata": {},
   "outputs": [
    {
     "data": {
      "text/html": [
       "<div>\n",
       "<style scoped>\n",
       "    .dataframe tbody tr th:only-of-type {\n",
       "        vertical-align: middle;\n",
       "    }\n",
       "\n",
       "    .dataframe tbody tr th {\n",
       "        vertical-align: top;\n",
       "    }\n",
       "\n",
       "    .dataframe thead th {\n",
       "        text-align: right;\n",
       "    }\n",
       "</style>\n",
       "<table border=\"1\" class=\"dataframe\">\n",
       "  <thead>\n",
       "    <tr style=\"text-align: right;\">\n",
       "      <th></th>\n",
       "      <th>pid</th>\n",
       "      <th>HR</th>\n",
       "      <th>O2Sat</th>\n",
       "      <th>Temp</th>\n",
       "      <th>SBP</th>\n",
       "      <th>MAP</th>\n",
       "      <th>DBP</th>\n",
       "      <th>Resp</th>\n",
       "      <th>EtCO2</th>\n",
       "      <th>BaseExcess</th>\n",
       "      <th>...</th>\n",
       "      <th>WBC</th>\n",
       "      <th>Fibrinogen</th>\n",
       "      <th>Platelets</th>\n",
       "      <th>Age</th>\n",
       "      <th>Gender</th>\n",
       "      <th>Unit1</th>\n",
       "      <th>Unit2</th>\n",
       "      <th>HospAdmTime</th>\n",
       "      <th>ICULOS</th>\n",
       "      <th>SepsisLabel</th>\n",
       "    </tr>\n",
       "  </thead>\n",
       "  <tbody>\n",
       "    <tr>\n",
       "      <th>0</th>\n",
       "      <td>1</td>\n",
       "      <td>0.710536</td>\n",
       "      <td>-0.682462</td>\n",
       "      <td>-1.09863</td>\n",
       "      <td>-1.066426</td>\n",
       "      <td>-0.275904</td>\n",
       "      <td>-3.115147e-15</td>\n",
       "      <td>0.047521</td>\n",
       "      <td>-4.160171e-14</td>\n",
       "      <td>7.341135</td>\n",
       "      <td>...</td>\n",
       "      <td>-0.901276</td>\n",
       "      <td>-8.135945e-16</td>\n",
       "      <td>1.020608</td>\n",
       "      <td>1.258124</td>\n",
       "      <td>-1.161487</td>\n",
       "      <td>-3.050958e-16</td>\n",
       "      <td>1.525479e-16</td>\n",
       "      <td>0.340779</td>\n",
       "      <td>-0.932029</td>\n",
       "      <td>0</td>\n",
       "    </tr>\n",
       "    <tr>\n",
       "      <th>1</th>\n",
       "      <td>1</td>\n",
       "      <td>0.710536</td>\n",
       "      <td>-0.682462</td>\n",
       "      <td>-1.09863</td>\n",
       "      <td>-1.066426</td>\n",
       "      <td>-0.275904</td>\n",
       "      <td>-3.115147e-15</td>\n",
       "      <td>0.047521</td>\n",
       "      <td>-4.160171e-14</td>\n",
       "      <td>7.341135</td>\n",
       "      <td>...</td>\n",
       "      <td>-0.901276</td>\n",
       "      <td>-8.135945e-16</td>\n",
       "      <td>1.020608</td>\n",
       "      <td>1.258124</td>\n",
       "      <td>-1.161487</td>\n",
       "      <td>-3.050958e-16</td>\n",
       "      <td>1.525479e-16</td>\n",
       "      <td>0.340779</td>\n",
       "      <td>-0.896139</td>\n",
       "      <td>0</td>\n",
       "    </tr>\n",
       "    <tr>\n",
       "      <th>2</th>\n",
       "      <td>1</td>\n",
       "      <td>0.243632</td>\n",
       "      <td>0.560437</td>\n",
       "      <td>-1.09863</td>\n",
       "      <td>0.023518</td>\n",
       "      <td>0.415477</td>\n",
       "      <td>-3.115147e-15</td>\n",
       "      <td>0.607546</td>\n",
       "      <td>-4.160171e-14</td>\n",
       "      <td>7.341135</td>\n",
       "      <td>...</td>\n",
       "      <td>-0.901276</td>\n",
       "      <td>-8.135945e-16</td>\n",
       "      <td>1.020608</td>\n",
       "      <td>1.258124</td>\n",
       "      <td>-1.161487</td>\n",
       "      <td>-3.050958e-16</td>\n",
       "      <td>1.525479e-16</td>\n",
       "      <td>0.340779</td>\n",
       "      <td>-0.860250</td>\n",
       "      <td>0</td>\n",
       "    </tr>\n",
       "    <tr>\n",
       "      <th>3</th>\n",
       "      <td>1</td>\n",
       "      <td>0.301995</td>\n",
       "      <td>-0.682462</td>\n",
       "      <td>-1.09863</td>\n",
       "      <td>0.023518</td>\n",
       "      <td>0.760844</td>\n",
       "      <td>-3.115147e-15</td>\n",
       "      <td>2.100946</td>\n",
       "      <td>-4.160171e-14</td>\n",
       "      <td>7.341135</td>\n",
       "      <td>...</td>\n",
       "      <td>-0.901276</td>\n",
       "      <td>-8.135945e-16</td>\n",
       "      <td>1.020608</td>\n",
       "      <td>1.258124</td>\n",
       "      <td>-1.161487</td>\n",
       "      <td>-3.050958e-16</td>\n",
       "      <td>1.525479e-16</td>\n",
       "      <td>0.340779</td>\n",
       "      <td>-0.824360</td>\n",
       "      <td>0</td>\n",
       "    </tr>\n",
       "    <tr>\n",
       "      <th>4</th>\n",
       "      <td>1</td>\n",
       "      <td>1.060714</td>\n",
       "      <td>-2.702171</td>\n",
       "      <td>-1.09863</td>\n",
       "      <td>0.023518</td>\n",
       "      <td>0.760844</td>\n",
       "      <td>-3.115147e-15</td>\n",
       "      <td>1.074233</td>\n",
       "      <td>-4.160171e-14</td>\n",
       "      <td>7.033274</td>\n",
       "      <td>...</td>\n",
       "      <td>-0.901276</td>\n",
       "      <td>-8.135945e-16</td>\n",
       "      <td>1.020608</td>\n",
       "      <td>1.258124</td>\n",
       "      <td>-1.161487</td>\n",
       "      <td>-3.050958e-16</td>\n",
       "      <td>1.525479e-16</td>\n",
       "      <td>0.340779</td>\n",
       "      <td>-0.788471</td>\n",
       "      <td>0</td>\n",
       "    </tr>\n",
       "  </tbody>\n",
       "</table>\n",
       "<p>5 rows × 42 columns</p>\n",
       "</div>"
      ],
      "text/plain": [
       "   pid        HR     O2Sat     Temp       SBP       MAP           DBP  \\\n",
       "0    1  0.710536 -0.682462 -1.09863 -1.066426 -0.275904 -3.115147e-15   \n",
       "1    1  0.710536 -0.682462 -1.09863 -1.066426 -0.275904 -3.115147e-15   \n",
       "2    1  0.243632  0.560437 -1.09863  0.023518  0.415477 -3.115147e-15   \n",
       "3    1  0.301995 -0.682462 -1.09863  0.023518  0.760844 -3.115147e-15   \n",
       "4    1  1.060714 -2.702171 -1.09863  0.023518  0.760844 -3.115147e-15   \n",
       "\n",
       "       Resp         EtCO2  BaseExcess     ...            WBC    Fibrinogen  \\\n",
       "0  0.047521 -4.160171e-14    7.341135     ...      -0.901276 -8.135945e-16   \n",
       "1  0.047521 -4.160171e-14    7.341135     ...      -0.901276 -8.135945e-16   \n",
       "2  0.607546 -4.160171e-14    7.341135     ...      -0.901276 -8.135945e-16   \n",
       "3  2.100946 -4.160171e-14    7.341135     ...      -0.901276 -8.135945e-16   \n",
       "4  1.074233 -4.160171e-14    7.033274     ...      -0.901276 -8.135945e-16   \n",
       "\n",
       "   Platelets       Age    Gender         Unit1         Unit2  HospAdmTime  \\\n",
       "0   1.020608  1.258124 -1.161487 -3.050958e-16  1.525479e-16     0.340779   \n",
       "1   1.020608  1.258124 -1.161487 -3.050958e-16  1.525479e-16     0.340779   \n",
       "2   1.020608  1.258124 -1.161487 -3.050958e-16  1.525479e-16     0.340779   \n",
       "3   1.020608  1.258124 -1.161487 -3.050958e-16  1.525479e-16     0.340779   \n",
       "4   1.020608  1.258124 -1.161487 -3.050958e-16  1.525479e-16     0.340779   \n",
       "\n",
       "     ICULOS  SepsisLabel  \n",
       "0 -0.932029            0  \n",
       "1 -0.896139            0  \n",
       "2 -0.860250            0  \n",
       "3 -0.824360            0  \n",
       "4 -0.788471            0  \n",
       "\n",
       "[5 rows x 42 columns]"
      ]
     },
     "execution_count": 4,
     "metadata": {},
     "output_type": "execute_result"
    }
   ],
   "source": [
    "data_p1.head()"
   ]
  },
  {
   "cell_type": "code",
   "execution_count": 5,
   "metadata": {},
   "outputs": [],
   "source": [
    "data_p1 = data_p1.drop('pid', axis =1)"
   ]
  },
  {
   "cell_type": "code",
   "execution_count": 6,
   "metadata": {},
   "outputs": [
    {
     "data": {
      "text/html": [
       "<div>\n",
       "<style scoped>\n",
       "    .dataframe tbody tr th:only-of-type {\n",
       "        vertical-align: middle;\n",
       "    }\n",
       "\n",
       "    .dataframe tbody tr th {\n",
       "        vertical-align: top;\n",
       "    }\n",
       "\n",
       "    .dataframe thead th {\n",
       "        text-align: right;\n",
       "    }\n",
       "</style>\n",
       "<table border=\"1\" class=\"dataframe\">\n",
       "  <thead>\n",
       "    <tr style=\"text-align: right;\">\n",
       "      <th></th>\n",
       "      <th>HR</th>\n",
       "      <th>O2Sat</th>\n",
       "      <th>Temp</th>\n",
       "      <th>SBP</th>\n",
       "      <th>MAP</th>\n",
       "      <th>DBP</th>\n",
       "      <th>Resp</th>\n",
       "      <th>EtCO2</th>\n",
       "      <th>BaseExcess</th>\n",
       "      <th>HCO3</th>\n",
       "      <th>...</th>\n",
       "      <th>WBC</th>\n",
       "      <th>Fibrinogen</th>\n",
       "      <th>Platelets</th>\n",
       "      <th>Age</th>\n",
       "      <th>Gender</th>\n",
       "      <th>Unit1</th>\n",
       "      <th>Unit2</th>\n",
       "      <th>HospAdmTime</th>\n",
       "      <th>ICULOS</th>\n",
       "      <th>SepsisLabel</th>\n",
       "    </tr>\n",
       "  </thead>\n",
       "  <tbody>\n",
       "    <tr>\n",
       "      <th>0</th>\n",
       "      <td>0.710536</td>\n",
       "      <td>-0.682462</td>\n",
       "      <td>-1.09863</td>\n",
       "      <td>-1.066426</td>\n",
       "      <td>-0.275904</td>\n",
       "      <td>-3.115147e-15</td>\n",
       "      <td>0.047521</td>\n",
       "      <td>-4.160171e-14</td>\n",
       "      <td>7.341135</td>\n",
       "      <td>5.032753</td>\n",
       "      <td>...</td>\n",
       "      <td>-0.901276</td>\n",
       "      <td>-8.135945e-16</td>\n",
       "      <td>1.020608</td>\n",
       "      <td>1.258124</td>\n",
       "      <td>-1.161487</td>\n",
       "      <td>-3.050958e-16</td>\n",
       "      <td>1.525479e-16</td>\n",
       "      <td>0.340779</td>\n",
       "      <td>-0.932029</td>\n",
       "      <td>0</td>\n",
       "    </tr>\n",
       "    <tr>\n",
       "      <th>1</th>\n",
       "      <td>0.710536</td>\n",
       "      <td>-0.682462</td>\n",
       "      <td>-1.09863</td>\n",
       "      <td>-1.066426</td>\n",
       "      <td>-0.275904</td>\n",
       "      <td>-3.115147e-15</td>\n",
       "      <td>0.047521</td>\n",
       "      <td>-4.160171e-14</td>\n",
       "      <td>7.341135</td>\n",
       "      <td>5.032753</td>\n",
       "      <td>...</td>\n",
       "      <td>-0.901276</td>\n",
       "      <td>-8.135945e-16</td>\n",
       "      <td>1.020608</td>\n",
       "      <td>1.258124</td>\n",
       "      <td>-1.161487</td>\n",
       "      <td>-3.050958e-16</td>\n",
       "      <td>1.525479e-16</td>\n",
       "      <td>0.340779</td>\n",
       "      <td>-0.896139</td>\n",
       "      <td>0</td>\n",
       "    </tr>\n",
       "    <tr>\n",
       "      <th>2</th>\n",
       "      <td>0.243632</td>\n",
       "      <td>0.560437</td>\n",
       "      <td>-1.09863</td>\n",
       "      <td>0.023518</td>\n",
       "      <td>0.415477</td>\n",
       "      <td>-3.115147e-15</td>\n",
       "      <td>0.607546</td>\n",
       "      <td>-4.160171e-14</td>\n",
       "      <td>7.341135</td>\n",
       "      <td>5.032753</td>\n",
       "      <td>...</td>\n",
       "      <td>-0.901276</td>\n",
       "      <td>-8.135945e-16</td>\n",
       "      <td>1.020608</td>\n",
       "      <td>1.258124</td>\n",
       "      <td>-1.161487</td>\n",
       "      <td>-3.050958e-16</td>\n",
       "      <td>1.525479e-16</td>\n",
       "      <td>0.340779</td>\n",
       "      <td>-0.860250</td>\n",
       "      <td>0</td>\n",
       "    </tr>\n",
       "    <tr>\n",
       "      <th>3</th>\n",
       "      <td>0.301995</td>\n",
       "      <td>-0.682462</td>\n",
       "      <td>-1.09863</td>\n",
       "      <td>0.023518</td>\n",
       "      <td>0.760844</td>\n",
       "      <td>-3.115147e-15</td>\n",
       "      <td>2.100946</td>\n",
       "      <td>-4.160171e-14</td>\n",
       "      <td>7.341135</td>\n",
       "      <td>5.032753</td>\n",
       "      <td>...</td>\n",
       "      <td>-0.901276</td>\n",
       "      <td>-8.135945e-16</td>\n",
       "      <td>1.020608</td>\n",
       "      <td>1.258124</td>\n",
       "      <td>-1.161487</td>\n",
       "      <td>-3.050958e-16</td>\n",
       "      <td>1.525479e-16</td>\n",
       "      <td>0.340779</td>\n",
       "      <td>-0.824360</td>\n",
       "      <td>0</td>\n",
       "    </tr>\n",
       "    <tr>\n",
       "      <th>4</th>\n",
       "      <td>1.060714</td>\n",
       "      <td>-2.702171</td>\n",
       "      <td>-1.09863</td>\n",
       "      <td>0.023518</td>\n",
       "      <td>0.760844</td>\n",
       "      <td>-3.115147e-15</td>\n",
       "      <td>1.074233</td>\n",
       "      <td>-4.160171e-14</td>\n",
       "      <td>7.033274</td>\n",
       "      <td>5.032753</td>\n",
       "      <td>...</td>\n",
       "      <td>-0.901276</td>\n",
       "      <td>-8.135945e-16</td>\n",
       "      <td>1.020608</td>\n",
       "      <td>1.258124</td>\n",
       "      <td>-1.161487</td>\n",
       "      <td>-3.050958e-16</td>\n",
       "      <td>1.525479e-16</td>\n",
       "      <td>0.340779</td>\n",
       "      <td>-0.788471</td>\n",
       "      <td>0</td>\n",
       "    </tr>\n",
       "  </tbody>\n",
       "</table>\n",
       "<p>5 rows × 41 columns</p>\n",
       "</div>"
      ],
      "text/plain": [
       "         HR     O2Sat     Temp       SBP       MAP           DBP      Resp  \\\n",
       "0  0.710536 -0.682462 -1.09863 -1.066426 -0.275904 -3.115147e-15  0.047521   \n",
       "1  0.710536 -0.682462 -1.09863 -1.066426 -0.275904 -3.115147e-15  0.047521   \n",
       "2  0.243632  0.560437 -1.09863  0.023518  0.415477 -3.115147e-15  0.607546   \n",
       "3  0.301995 -0.682462 -1.09863  0.023518  0.760844 -3.115147e-15  2.100946   \n",
       "4  1.060714 -2.702171 -1.09863  0.023518  0.760844 -3.115147e-15  1.074233   \n",
       "\n",
       "          EtCO2  BaseExcess      HCO3     ...            WBC    Fibrinogen  \\\n",
       "0 -4.160171e-14    7.341135  5.032753     ...      -0.901276 -8.135945e-16   \n",
       "1 -4.160171e-14    7.341135  5.032753     ...      -0.901276 -8.135945e-16   \n",
       "2 -4.160171e-14    7.341135  5.032753     ...      -0.901276 -8.135945e-16   \n",
       "3 -4.160171e-14    7.341135  5.032753     ...      -0.901276 -8.135945e-16   \n",
       "4 -4.160171e-14    7.033274  5.032753     ...      -0.901276 -8.135945e-16   \n",
       "\n",
       "   Platelets       Age    Gender         Unit1         Unit2  HospAdmTime  \\\n",
       "0   1.020608  1.258124 -1.161487 -3.050958e-16  1.525479e-16     0.340779   \n",
       "1   1.020608  1.258124 -1.161487 -3.050958e-16  1.525479e-16     0.340779   \n",
       "2   1.020608  1.258124 -1.161487 -3.050958e-16  1.525479e-16     0.340779   \n",
       "3   1.020608  1.258124 -1.161487 -3.050958e-16  1.525479e-16     0.340779   \n",
       "4   1.020608  1.258124 -1.161487 -3.050958e-16  1.525479e-16     0.340779   \n",
       "\n",
       "     ICULOS  SepsisLabel  \n",
       "0 -0.932029            0  \n",
       "1 -0.896139            0  \n",
       "2 -0.860250            0  \n",
       "3 -0.824360            0  \n",
       "4 -0.788471            0  \n",
       "\n",
       "[5 rows x 41 columns]"
      ]
     },
     "execution_count": 6,
     "metadata": {},
     "output_type": "execute_result"
    }
   ],
   "source": [
    "data_p1.head()"
   ]
  },
  {
   "cell_type": "code",
   "execution_count": 7,
   "metadata": {},
   "outputs": [],
   "source": [
    "y = data_p1['SepsisLabel']\n",
    "X = data_p1.drop('SepsisLabel', axis = 1)"
   ]
  },
  {
   "cell_type": "code",
   "execution_count": 11,
   "metadata": {},
   "outputs": [],
   "source": [
    "y_prob = y.copy()"
   ]
  },
  {
   "cell_type": "code",
   "execution_count": 13,
   "metadata": {},
   "outputs": [],
   "source": [
    "y_prob[y == 1] = np.random.uniform(low=0.9, high=1.0)\n",
    "y_prob[y == 0] = np.random.uniform(low = 0.0, high = 0.05)"
   ]
  },
  {
   "cell_type": "code",
   "execution_count": 8,
   "metadata": {},
   "outputs": [
    {
     "data": {
      "text/plain": [
       "Index(['HR', 'O2Sat', 'Temp', 'SBP', 'MAP', 'DBP', 'Resp', 'EtCO2',\n",
       "       'BaseExcess', 'HCO3', 'FiO2', 'pH', 'PaCO2', 'SaO2', 'AST', 'BUN',\n",
       "       'Alkalinephos', 'Calcium', 'Chloride', 'Creatinine', 'Bilirubin_direct',\n",
       "       'Glucose', 'Lactate', 'Magnesium', 'Phosphate', 'Potassium',\n",
       "       'Bilirubin_total', 'TroponinI', 'Hct', 'Hgb', 'PTT', 'WBC',\n",
       "       'Fibrinogen', 'Platelets', 'Age', 'Gender', 'Unit1', 'Unit2',\n",
       "       'HospAdmTime', 'ICULOS'],\n",
       "      dtype='object')"
      ]
     },
     "execution_count": 8,
     "metadata": {},
     "output_type": "execute_result"
    }
   ],
   "source": [
    "X.columns"
   ]
  },
  {
   "cell_type": "code",
   "execution_count": 39,
   "metadata": {},
   "outputs": [],
   "source": [
    "X = X.drop('ICULOS', axis  = 1)"
   ]
  },
  {
   "cell_type": "code",
   "execution_count": 9,
   "metadata": {},
   "outputs": [
    {
     "data": {
      "text/plain": [
       "Index(['HR', 'O2Sat', 'Temp', 'SBP', 'MAP', 'DBP', 'Resp', 'EtCO2',\n",
       "       'BaseExcess', 'HCO3', 'FiO2', 'pH', 'PaCO2', 'SaO2', 'AST', 'BUN',\n",
       "       'Alkalinephos', 'Calcium', 'Chloride', 'Creatinine', 'Bilirubin_direct',\n",
       "       'Glucose', 'Lactate', 'Magnesium', 'Phosphate', 'Potassium',\n",
       "       'Bilirubin_total', 'TroponinI', 'Hct', 'Hgb', 'PTT', 'WBC',\n",
       "       'Fibrinogen', 'Platelets', 'Age', 'Gender', 'Unit1', 'Unit2',\n",
       "       'HospAdmTime', 'ICULOS'],\n",
       "      dtype='object')"
      ]
     },
     "execution_count": 9,
     "metadata": {},
     "output_type": "execute_result"
    }
   ],
   "source": [
    "X.columns"
   ]
  },
  {
   "cell_type": "code",
   "execution_count": 15,
   "metadata": {},
   "outputs": [
    {
     "data": {
      "text/plain": [
       "Index(['HR', 'O2Sat', 'Temp', 'SBP', 'MAP', 'DBP', 'Resp', 'EtCO2',\n",
       "       'BaseExcess', 'HCO3', 'FiO2', 'pH', 'PaCO2', 'SaO2', 'AST', 'BUN',\n",
       "       'Alkalinephos', 'Calcium', 'Chloride', 'Creatinine', 'Bilirubin_direct',\n",
       "       'Glucose', 'Lactate', 'Magnesium', 'Phosphate', 'Potassium',\n",
       "       'Bilirubin_total', 'TroponinI', 'Hct', 'Hgb', 'PTT', 'WBC',\n",
       "       'Fibrinogen', 'Platelets', 'Age', 'Gender', 'Unit1', 'Unit2',\n",
       "       'HospAdmTime', 'ICULOS'],\n",
       "      dtype='object')"
      ]
     },
     "execution_count": 15,
     "metadata": {},
     "output_type": "execute_result"
    }
   ],
   "source": [
    "# split data train 70 % and test 30 %\n",
    "X_train, X_test, y_train, y_test = train_test_split(X, y, test_size=0.3, random_state=42, stratify=y)\n",
    "X_train_prob, X_test_prob, y_train_prob, y_test_prob = train_test_split(X, y_prob, test_size=0.3, random_state=42, stratify=y_prob)\n",
    "#print('Train :', X_train.shape, y_train.shape)\n",
    "#print('Test :', X_test.shape, y_test.shape)\n",
    "X_train.columns"
   ]
  },
  {
   "cell_type": "code",
   "execution_count": 44,
   "metadata": {},
   "outputs": [
    {
     "data": {
      "text/plain": [
       "(604725, 40)"
      ]
     },
     "execution_count": 44,
     "metadata": {},
     "output_type": "execute_result"
    }
   ],
   "source": [
    "X_train.shape"
   ]
  },
  {
   "cell_type": "code",
   "execution_count": 34,
   "metadata": {},
   "outputs": [],
   "source": [
    "clf_rf = RandomForestClassifier(n_estimators = 1000) #(n_estimators =  1000)      \n",
    "clr_rf = clf_rf.fit(X_train,y_train)"
   ]
  },
  {
   "cell_type": "code",
   "execution_count": 35,
   "metadata": {},
   "outputs": [],
   "source": [
    "filename = 'classifier_model.sav'\n",
    "pickle.dump(clf_rf, open(filename, 'wb'))"
   ]
  },
  {
   "cell_type": "code",
   "execution_count": 36,
   "metadata": {},
   "outputs": [
    {
     "name": "stdout",
     "output_type": "stream",
     "text": [
      "test result for random forest\n",
      "Calculated: Precision =  0.9453551912568307 , Recall =  0.8285135384048627 , F1 Score =  0.8830862864435064\n",
      "sklearn Precision =  0.9453551912568307 , Recall =  0.8285135384048627 , F1 Score =  0.8830862864435064\n"
     ]
    }
   ],
   "source": [
    "loaded_model = pickle.load(open(filename, 'rb'))\n",
    "y_pred_rf_new = loaded_model.predict(X_test)\n",
    "print(\"test result for random forest\")\n",
    "getResults(y_test, y_pred_rf_new)"
   ]
  },
  {
   "cell_type": "code",
   "execution_count": 37,
   "metadata": {},
   "outputs": [
    {
     "name": "stdout",
     "output_type": "stream",
     "text": [
      "test result for random forest\n",
      "Calculated: Precision =  0.9453551912568307 , Recall =  0.8285135384048627 , F1 Score =  0.8830862864435064\n",
      "sklearn Precision =  0.9453551912568307 , Recall =  0.8285135384048627 , F1 Score =  0.8830862864435064\n"
     ]
    }
   ],
   "source": [
    "y_pred_rf = clf_rf.predict(X_test)\n",
    "print(\"test result for random forest\")\n",
    "getResults(y_test, y_pred_rf)"
   ]
  },
  {
   "cell_type": "code",
   "execution_count": 52,
   "metadata": {},
   "outputs": [
    {
     "name": "stdout",
     "output_type": "stream",
     "text": [
      "train result for random forest\n",
      "Calculated: Precision =  0.9984719317999035 , Recall =  0.9801831675351335 , F1 Score =  0.9892430278884462\n",
      "sklearn Precision =  0.9984719317999035 , Recall =  0.9801831675351335 , F1 Score =  0.9892430278884462\n"
     ]
    }
   ],
   "source": [
    "y_pred_rf = clf_rf.predict(X_train)\n",
    "print(\"train result for random forest\")\n",
    "getResults(y_train, y_pred_rf)"
   ]
  },
  {
   "cell_type": "code",
   "execution_count": 38,
   "metadata": {},
   "outputs": [],
   "source": [
    "reg_rf = RandomForestRegressor(n_estimators = 1000)\n",
    "reg_rf = reg_rf.fit(X_train_prob, y_train_prob)"
   ]
  },
  {
   "cell_type": "code",
   "execution_count": 41,
   "metadata": {},
   "outputs": [],
   "source": [
    "filename = 'regressor_model.sav'\n",
    "pickle.dump(reg_rf, open(filename, 'wb'))"
   ]
  },
  {
   "cell_type": "code",
   "execution_count": 39,
   "metadata": {},
   "outputs": [],
   "source": [
    "y_prob_pred_rf = reg_rf.predict(X_test_prob)\n"
   ]
  },
  {
   "cell_type": "code",
   "execution_count": 40,
   "metadata": {},
   "outputs": [
    {
     "name": "stdout",
     "output_type": "stream",
     "text": [
      "0.00311735016177578\n"
     ]
    }
   ],
   "source": [
    "error = mean_squared_error(y_test_prob, y_prob_pred_rf)\n",
    "print(error)"
   ]
  },
  {
   "cell_type": "code",
   "execution_count": 22,
   "metadata": {},
   "outputs": [
    {
     "name": "stdout",
     "output_type": "stream",
     "text": [
      "[0.02149637 0.02149637 0.02149637 ... 0.02149637 0.02149637 0.02149637]\n"
     ]
    }
   ],
   "source": [
    "print(y_prob_pred_rf)"
   ]
  },
  {
   "cell_type": "code",
   "execution_count": 24,
   "metadata": {},
   "outputs": [
    {
     "name": "stdout",
     "output_type": "stream",
     "text": [
      "513721    0.021496\n",
      "644903    0.021496\n",
      "700684    0.021496\n",
      "341736    0.021496\n",
      "151468    0.021496\n",
      "684142    0.021496\n",
      "227794    0.021496\n",
      "776654    0.021496\n",
      "280708    0.021496\n",
      "513886    0.021496\n",
      "543804    0.021496\n",
      "798086    0.021496\n",
      "776608    0.021496\n",
      "513620    0.021496\n",
      "714293    0.021496\n",
      "283515    0.021496\n",
      "619090    0.021496\n",
      "106768    0.021496\n",
      "250412    0.021496\n",
      "548303    0.021496\n",
      "161263    0.021496\n",
      "608183    0.021496\n",
      "7781      0.021496\n",
      "14590     0.021496\n",
      "333947    0.021496\n",
      "76271     0.021496\n",
      "102134    0.021496\n",
      "115263    0.021496\n",
      "520596    0.021496\n",
      "474970    0.021496\n",
      "            ...   \n",
      "459563    0.021496\n",
      "414502    0.021496\n",
      "697596    0.930633\n",
      "433350    0.021496\n",
      "743216    0.021496\n",
      "608096    0.021496\n",
      "572894    0.021496\n",
      "710973    0.021496\n",
      "279695    0.021496\n",
      "152267    0.021496\n",
      "112195    0.021496\n",
      "606351    0.021496\n",
      "274688    0.021496\n",
      "736489    0.021496\n",
      "206814    0.021496\n",
      "382242    0.021496\n",
      "863802    0.021496\n",
      "489367    0.021496\n",
      "792736    0.021496\n",
      "319622    0.021496\n",
      "481111    0.021496\n",
      "338520    0.021496\n",
      "444341    0.021496\n",
      "478666    0.021496\n",
      "583       0.021496\n",
      "483794    0.021496\n",
      "189422    0.021496\n",
      "407919    0.021496\n",
      "200199    0.021496\n",
      "797306    0.021496\n",
      "Name: SepsisLabel, Length: 259168, dtype: float64\n"
     ]
    }
   ],
   "source": [
    "print(y_test_prob)"
   ]
  },
  {
   "cell_type": "code",
   "execution_count": 31,
   "metadata": {},
   "outputs": [],
   "source": [
    "def getResults(y, y_pred) :\n",
    "    conf_mat = confusion_matrix(y, y_pred)\n",
    "    tn = conf_mat[0][0] ; fp = conf_mat[0][1]; fn = conf_mat[1][0] ; tp = conf_mat[1][1]\n",
    "    \n",
    "    cal_precision = tp/(tp + fp)\n",
    "    cal_recall = tp/(tp + fn)\n",
    "    cal_f1 = 2 * ((cal_precision * cal_recall)/(cal_precision + cal_recall))\n",
    "    \n",
    "    print('Calculated: Precision = ', cal_precision, ', Recall = ', cal_recall, ', F1 Score = ', cal_f1)\n",
    "\n",
    "    recall = recall_score(y, y_pred)\n",
    "    precision = precision_score(y, y_pred)\n",
    "    f1 = f1_score(y, y_pred)\n",
    "\n",
    "    print('sklearn Precision = ', precision, ', Recall = ', recall, ', F1 Score = ', f1)\n",
    "    "
   ]
  },
  {
   "cell_type": "code",
   "execution_count": null,
   "metadata": {},
   "outputs": [],
   "source": []
  },
  {
   "cell_type": "code",
   "execution_count": 80,
   "metadata": {},
   "outputs": [
    {
     "name": "stderr",
     "output_type": "stream",
     "text": [
      "/anaconda3/lib/python3.6/site-packages/sklearn/ensemble/forest.py:246: FutureWarning: The default value of n_estimators will change from 10 in version 0.20 to 100 in 0.22.\n",
      "  \"10 in version 0.20 to 100 in 0.22.\", FutureWarning)\n"
     ]
    },
    {
     "name": "stdout",
     "output_type": "stream",
     "text": [
      "For train : \n",
      "Recall is:  0.9915500466870156\n",
      "Precision is:  0.9993274666019477\n",
      "Accuracy is:  0.9997498427041246\n",
      "F1 score: 0.9182317009780243\n",
      "For test : \n",
      "Recall is:  0.8708319119484151\n",
      "Precision is:  0.9800334163579061\n",
      "Accuracy is:  0.9960202348945805\n",
      "F1 score: 0.9182317009780243\n"
     ]
    },
    {
     "data": {
      "image/png": "[encoded data removed]",
      "text/plain": [
       "<Figure size 432x288 with 3 Axes>"
      ]
     },
     "metadata": {},
     "output_type": "display_data"
    }
   ],
   "source": [
    "\n",
    "\n",
    "y_pred_train = clf_rf.predict(X_train)\n",
    "#y_score = clr_rf.decision_function(X_test)\n",
    "print('For train : ')\n",
    "recall= recall_score(y_train, y_pred_train, average='macro')\n",
    "print('Recall is: ', recall)\n",
    "\n",
    "precision = precision_score(y_train, y_pred_train, average='macro')\n",
    "print('Precision is: ', precision)\n",
    "\n",
    "acc_rf = accuracy_score(y_train,clf_rf.predict(X_train))\n",
    "print('Accuracy is: ',acc_rf)\n",
    "\n",
    "cm_rf_train = confusion_matrix(y_train,clf_rf.predict(X_train))\n",
    "sns.heatmap(cm_rf,annot=True,fmt=\"d\")\n",
    "\n",
    "f1_rf_train = f1_score(y_train, y_pred_train, average='macro')\n",
    "print('F1 score:', f1_rf)\n",
    "\n",
    "###############################################################\n",
    "print('For test : ')\n",
    "\n",
    "y_pred = clf_rf.predict(X_test)\n",
    "#y_score = clr_rf.decision_function(X_test)\n",
    "\n",
    "recall= recall_score(y_test, y_pred, average='macro')\n",
    "print('Recall is: ', recall)\n",
    "\n",
    "precision = precision_score(y_test, y_pred, average='macro')\n",
    "print('Precision is: ', precision)\n",
    "\n",
    "acc_rf = accuracy_score(y_test,clf_rf.predict(X_test))\n",
    "print('Accuracy is: ',acc_rf)\n",
    "\n",
    "cm_rf = confusion_matrix(y_test,clf_rf.predict(X_test))\n",
    "sns.heatmap(cm_rf,annot=True,fmt=\"d\")\n",
    "\n",
    "f1_rf = f1_score(y_test, y_pred, average='macro')\n",
    "print('F1 score:', f1_rf)"
   ]
  },
  {
   "cell_type": "code",
   "execution_count": 37,
   "metadata": {},
   "outputs": [],
   "source": [
    "#!pip install imblearn"
   ]
  },
  {
   "cell_type": "code",
   "execution_count": null,
   "metadata": {},
   "outputs": [],
   "source": [
    "from collections import Counter\n",
    "from sklearn.datasets import make_classification\n",
    "from imblearn.over_sampling import SMOTE # doctest: +NORMALIZE_WHITESPACE\n",
    "\n",
    "Xs, ys = make_classification(n_classes=2, class_sep=2,\n",
    "weights=[0.1, 0.9], n_informative=3, n_redundant=1, flip_y=0,\n",
    "n_features=20, n_clusters_per_class=1, n_samples=1000, random_state=10)\n",
    "print('Original dataset shape %s' % Counter(y))\n",
    "Original dataset shape Counter({1: 900, 0: 100})\n",
    "sm = SMOTE(random_state=42)\n",
    "X_res, y_res = sm.fit_resample(Xs, ys)\n",
    "print('Resampled dataset shape %s' % Counter(y_res))\n",
    "Resampled dataset shape Counter({0: 900, 1: 900})"
   ]
  },
  {
   "cell_type": "code",
   "execution_count": 82,
   "metadata": {},
   "outputs": [
    {
     "data": {
      "text/plain": [
       "Index(['HR', 'O2Sat', 'Temp', 'SBP', 'MAP', 'DBP', 'Resp', 'EtCO2',\n",
       "       'BaseExcess', 'HCO3', 'FiO2', 'pH', 'PaCO2', 'SaO2', 'AST', 'BUN',\n",
       "       'Alkalinephos', 'Calcium', 'Chloride', 'Creatinine', 'Bilirubin_direct',\n",
       "       'Glucose', 'Lactate', 'Magnesium', 'Phosphate', 'Potassium',\n",
       "       'Bilirubin_total', 'TroponinI', 'Hct', 'Hgb', 'PTT', 'WBC',\n",
       "       'Fibrinogen', 'Platelets', 'Age', 'Gender', 'Unit1', 'Unit2',\n",
       "       'HospAdmTime', 'ICULOS', 'SepsisLabel'],\n",
       "      dtype='object')"
      ]
     },
     "execution_count": 82,
     "metadata": {},
     "output_type": "execute_result"
    }
   ],
   "source": [
    "data_p1.columns"
   ]
  },
  {
   "cell_type": "code",
   "execution_count": 116,
   "metadata": {},
   "outputs": [
    {
     "name": "stdout",
     "output_type": "stream",
     "text": [
      "Negative:  185844\n",
      "Positive :  2623\n"
     ]
    },
    {
     "data": {
      "image/png": "[encoded data removed]",
      "text/plain": [
       "<Figure size 432x288 with 1 Axes>"
      ]
     },
     "metadata": {},
     "output_type": "display_data"
    }
   ],
   "source": [
    "label = data_p1.SepsisLabel\n",
    "gender_dist = data_p1.Gender\n",
    "ax = sns.countplot(label,label=\"Count\")       # M = 212, B = 357\n",
    "B, M = label.value_counts()\n",
    "print('Negative: ',B)\n",
    "print('Positive : ',M)"
   ]
  },
  {
   "cell_type": "code",
   "execution_count": 84,
   "metadata": {},
   "outputs": [
    {
     "data": {
      "image/png": "[encoded data removed]",
      "text/plain": [
       "<Figure size 432x288 with 1 Axes>"
      ]
     },
     "metadata": {},
     "output_type": "display_data"
    }
   ],
   "source": [
    "age_dist = data_p1.Age\n",
    "ax = sns.countplot(age_dist,label=\"Count\")       # M = 212, B = 357\n",
    "#B, M = gender_dist.value_counts()"
   ]
  },
  {
   "cell_type": "code",
   "execution_count": 85,
   "metadata": {},
   "outputs": [
    {
     "data": {
      "text/html": [
       "<div>\n",
       "<style scoped>\n",
       "    .dataframe tbody tr th:only-of-type {\n",
       "        vertical-align: middle;\n",
       "    }\n",
       "\n",
       "    .dataframe tbody tr th {\n",
       "        vertical-align: top;\n",
       "    }\n",
       "\n",
       "    .dataframe thead th {\n",
       "        text-align: right;\n",
       "    }\n",
       "</style>\n",
       "<table border=\"1\" class=\"dataframe\">\n",
       "  <thead>\n",
       "    <tr style=\"text-align: right;\">\n",
       "      <th></th>\n",
       "      <th>HR</th>\n",
       "      <th>O2Sat</th>\n",
       "      <th>Temp</th>\n",
       "      <th>SBP</th>\n",
       "      <th>MAP</th>\n",
       "      <th>DBP</th>\n",
       "      <th>Resp</th>\n",
       "      <th>EtCO2</th>\n",
       "      <th>BaseExcess</th>\n",
       "      <th>HCO3</th>\n",
       "      <th>...</th>\n",
       "      <th>PTT</th>\n",
       "      <th>WBC</th>\n",
       "      <th>Fibrinogen</th>\n",
       "      <th>Platelets</th>\n",
       "      <th>Age</th>\n",
       "      <th>Gender</th>\n",
       "      <th>Unit1</th>\n",
       "      <th>Unit2</th>\n",
       "      <th>HospAdmTime</th>\n",
       "      <th>ICULOS</th>\n",
       "    </tr>\n",
       "  </thead>\n",
       "  <tbody>\n",
       "    <tr>\n",
       "      <th>0</th>\n",
       "      <td>NaN</td>\n",
       "      <td>NaN</td>\n",
       "      <td>NaN</td>\n",
       "      <td>NaN</td>\n",
       "      <td>NaN</td>\n",
       "      <td>NaN</td>\n",
       "      <td>NaN</td>\n",
       "      <td>NaN</td>\n",
       "      <td>NaN</td>\n",
       "      <td>NaN</td>\n",
       "      <td>...</td>\n",
       "      <td>NaN</td>\n",
       "      <td>NaN</td>\n",
       "      <td>NaN</td>\n",
       "      <td>NaN</td>\n",
       "      <td>86</td>\n",
       "      <td>0</td>\n",
       "      <td>1.0</td>\n",
       "      <td>0.0</td>\n",
       "      <td>-2.8</td>\n",
       "      <td>1</td>\n",
       "    </tr>\n",
       "    <tr>\n",
       "      <th>1</th>\n",
       "      <td>82.0</td>\n",
       "      <td>100.0</td>\n",
       "      <td>NaN</td>\n",
       "      <td>205.0</td>\n",
       "      <td>130.0</td>\n",
       "      <td>91.0</td>\n",
       "      <td>20.0</td>\n",
       "      <td>NaN</td>\n",
       "      <td>NaN</td>\n",
       "      <td>NaN</td>\n",
       "      <td>...</td>\n",
       "      <td>NaN</td>\n",
       "      <td>NaN</td>\n",
       "      <td>NaN</td>\n",
       "      <td>NaN</td>\n",
       "      <td>86</td>\n",
       "      <td>0</td>\n",
       "      <td>1.0</td>\n",
       "      <td>0.0</td>\n",
       "      <td>-2.8</td>\n",
       "      <td>2</td>\n",
       "    </tr>\n",
       "    <tr>\n",
       "      <th>2</th>\n",
       "      <td>85.0</td>\n",
       "      <td>99.0</td>\n",
       "      <td>36.3</td>\n",
       "      <td>185.0</td>\n",
       "      <td>115.0</td>\n",
       "      <td>80.0</td>\n",
       "      <td>25.0</td>\n",
       "      <td>NaN</td>\n",
       "      <td>NaN</td>\n",
       "      <td>NaN</td>\n",
       "      <td>...</td>\n",
       "      <td>NaN</td>\n",
       "      <td>NaN</td>\n",
       "      <td>NaN</td>\n",
       "      <td>NaN</td>\n",
       "      <td>86</td>\n",
       "      <td>0</td>\n",
       "      <td>1.0</td>\n",
       "      <td>0.0</td>\n",
       "      <td>-2.8</td>\n",
       "      <td>3</td>\n",
       "    </tr>\n",
       "    <tr>\n",
       "      <th>3</th>\n",
       "      <td>83.0</td>\n",
       "      <td>99.0</td>\n",
       "      <td>NaN</td>\n",
       "      <td>181.0</td>\n",
       "      <td>117.0</td>\n",
       "      <td>81.0</td>\n",
       "      <td>24.0</td>\n",
       "      <td>NaN</td>\n",
       "      <td>NaN</td>\n",
       "      <td>NaN</td>\n",
       "      <td>...</td>\n",
       "      <td>NaN</td>\n",
       "      <td>NaN</td>\n",
       "      <td>NaN</td>\n",
       "      <td>NaN</td>\n",
       "      <td>86</td>\n",
       "      <td>0</td>\n",
       "      <td>1.0</td>\n",
       "      <td>0.0</td>\n",
       "      <td>-2.8</td>\n",
       "      <td>4</td>\n",
       "    </tr>\n",
       "    <tr>\n",
       "      <th>4</th>\n",
       "      <td>84.0</td>\n",
       "      <td>99.5</td>\n",
       "      <td>NaN</td>\n",
       "      <td>190.0</td>\n",
       "      <td>125.5</td>\n",
       "      <td>83.5</td>\n",
       "      <td>22.5</td>\n",
       "      <td>NaN</td>\n",
       "      <td>NaN</td>\n",
       "      <td>NaN</td>\n",
       "      <td>...</td>\n",
       "      <td>NaN</td>\n",
       "      <td>10.7</td>\n",
       "      <td>NaN</td>\n",
       "      <td>146.0</td>\n",
       "      <td>86</td>\n",
       "      <td>0</td>\n",
       "      <td>1.0</td>\n",
       "      <td>0.0</td>\n",
       "      <td>-2.8</td>\n",
       "      <td>5</td>\n",
       "    </tr>\n",
       "  </tbody>\n",
       "</table>\n",
       "<p>5 rows × 40 columns</p>\n",
       "</div>"
      ],
      "text/plain": [
       "     HR  O2Sat  Temp    SBP    MAP   DBP  Resp  EtCO2  BaseExcess  HCO3  \\\n",
       "0   NaN    NaN   NaN    NaN    NaN   NaN   NaN    NaN         NaN   NaN   \n",
       "1  82.0  100.0   NaN  205.0  130.0  91.0  20.0    NaN         NaN   NaN   \n",
       "2  85.0   99.0  36.3  185.0  115.0  80.0  25.0    NaN         NaN   NaN   \n",
       "3  83.0   99.0   NaN  181.0  117.0  81.0  24.0    NaN         NaN   NaN   \n",
       "4  84.0   99.5   NaN  190.0  125.5  83.5  22.5    NaN         NaN   NaN   \n",
       "\n",
       "    ...    PTT   WBC  Fibrinogen  Platelets  Age  Gender  Unit1  Unit2  \\\n",
       "0   ...    NaN   NaN         NaN        NaN   86       0    1.0    0.0   \n",
       "1   ...    NaN   NaN         NaN        NaN   86       0    1.0    0.0   \n",
       "2   ...    NaN   NaN         NaN        NaN   86       0    1.0    0.0   \n",
       "3   ...    NaN   NaN         NaN        NaN   86       0    1.0    0.0   \n",
       "4   ...    NaN  10.7         NaN      146.0   86       0    1.0    0.0   \n",
       "\n",
       "   HospAdmTime  ICULOS  \n",
       "0         -2.8       1  \n",
       "1         -2.8       2  \n",
       "2         -2.8       3  \n",
       "3         -2.8       4  \n",
       "4         -2.8       5  \n",
       "\n",
       "[5 rows x 40 columns]"
      ]
     },
     "execution_count": 85,
     "metadata": {},
     "output_type": "execute_result"
    }
   ],
   "source": [
    "list = ['SepsisLabel']\n",
    "feature_data = data_p1.drop(list,axis = 1 )\n",
    "feature_data.head()"
   ]
  },
  {
   "cell_type": "code",
   "execution_count": 91,
   "metadata": {},
   "outputs": [],
   "source": [
    "feature_data.shape\n",
    "nan_stat = feature_data.isna().sum()/feature_data.shape[0]"
   ]
  },
  {
   "cell_type": "code",
   "execution_count": 96,
   "metadata": {},
   "outputs": [
    {
     "data": {
      "text/plain": [
       "<matplotlib.axes._subplots.AxesSubplot at 0x1579c2a8cc0>"
      ]
     },
     "execution_count": 96,
     "metadata": {},
     "output_type": "execute_result"
    },
    {
     "data": {
      "image/png": "[encoded data removed]",
      "text/plain": [
       "<Figure size 432x288 with 1 Axes>"
      ]
     },
     "metadata": {},
     "output_type": "display_data"
    }
   ],
   "source": [
    "nan_stat.plot.bar()"
   ]
  },
  {
   "cell_type": "code",
   "execution_count": 98,
   "metadata": {},
   "outputs": [
    {
     "data": {
      "text/plain": [
       "Temp                0.663135\n",
       "EtCO2               0.927494\n",
       "BaseExcess          0.997825\n",
       "HCO3                0.998265\n",
       "FiO2                0.977588\n",
       "pH                  0.977816\n",
       "PaCO2               0.977789\n",
       "SaO2                0.981302\n",
       "AST                 0.982108\n",
       "BUN                 0.944866\n",
       "Alkalinephos        0.982002\n",
       "Calcium             0.931813\n",
       "Chloride            0.993834\n",
       "Creatinine          0.944802\n",
       "Bilirubin_direct    0.997681\n",
       "Glucose             0.777961\n",
       "Lactate             0.981365\n",
       "Magnesium           0.952474\n",
       "Phosphate           0.970854\n",
       "Potassium           0.923265\n",
       "Bilirubin_total     0.981965\n",
       "TroponinI           0.981201\n",
       "Hct                 0.941953\n",
       "Hgb                 0.941406\n",
       "PTT                 0.990062\n",
       "WBC                 0.947646\n",
       "Fibrinogen          0.994317\n",
       "Platelets           0.946839\n",
       "dtype: float64"
      ]
     },
     "execution_count": 98,
     "metadata": {},
     "output_type": "execute_result"
    }
   ],
   "source": [
    "nan_stat[nan_stat > 0.5]"
   ]
  },
  {
   "cell_type": "code",
   "execution_count": 100,
   "metadata": {},
   "outputs": [
    {
     "data": {
      "text/html": [
       "<div>\n",
       "<style scoped>\n",
       "    .dataframe tbody tr th:only-of-type {\n",
       "        vertical-align: middle;\n",
       "    }\n",
       "\n",
       "    .dataframe tbody tr th {\n",
       "        vertical-align: top;\n",
       "    }\n",
       "\n",
       "    .dataframe thead th {\n",
       "        text-align: right;\n",
       "    }\n",
       "</style>\n",
       "<table border=\"1\" class=\"dataframe\">\n",
       "  <thead>\n",
       "    <tr style=\"text-align: right;\">\n",
       "      <th></th>\n",
       "      <th>HR</th>\n",
       "      <th>O2Sat</th>\n",
       "      <th>Temp</th>\n",
       "      <th>SBP</th>\n",
       "      <th>MAP</th>\n",
       "      <th>DBP</th>\n",
       "      <th>Resp</th>\n",
       "      <th>EtCO2</th>\n",
       "      <th>BaseExcess</th>\n",
       "      <th>HCO3</th>\n",
       "      <th>...</th>\n",
       "      <th>PTT</th>\n",
       "      <th>WBC</th>\n",
       "      <th>Fibrinogen</th>\n",
       "      <th>Platelets</th>\n",
       "      <th>Age</th>\n",
       "      <th>Gender</th>\n",
       "      <th>Unit1</th>\n",
       "      <th>Unit2</th>\n",
       "      <th>HospAdmTime</th>\n",
       "      <th>ICULOS</th>\n",
       "    </tr>\n",
       "  </thead>\n",
       "  <tbody>\n",
       "    <tr>\n",
       "      <th>count</th>\n",
       "      <td>188467.000000</td>\n",
       "      <td>188467.00000</td>\n",
       "      <td>188467.000000</td>\n",
       "      <td>188467.000000</td>\n",
       "      <td>188467.000000</td>\n",
       "      <td>188467.000000</td>\n",
       "      <td>188467.000000</td>\n",
       "      <td>188376.000000</td>\n",
       "      <td>187576.000000</td>\n",
       "      <td>187576.000000</td>\n",
       "      <td>...</td>\n",
       "      <td>188440.000000</td>\n",
       "      <td>188461.000000</td>\n",
       "      <td>188428.000000</td>\n",
       "      <td>188461.000000</td>\n",
       "      <td>188467.000000</td>\n",
       "      <td>188467.000000</td>\n",
       "      <td>188467.000000</td>\n",
       "      <td>188467.000000</td>\n",
       "      <td>188467.000000</td>\n",
       "      <td>188467.000000</td>\n",
       "    </tr>\n",
       "    <tr>\n",
       "      <th>mean</th>\n",
       "      <td>83.925483</td>\n",
       "      <td>97.08436</td>\n",
       "      <td>36.775658</td>\n",
       "      <td>126.746056</td>\n",
       "      <td>86.913980</td>\n",
       "      <td>66.740225</td>\n",
       "      <td>18.599689</td>\n",
       "      <td>32.748715</td>\n",
       "      <td>-2.735286</td>\n",
       "      <td>23.239195</td>\n",
       "      <td>...</td>\n",
       "      <td>42.096534</td>\n",
       "      <td>10.422908</td>\n",
       "      <td>288.043115</td>\n",
       "      <td>198.956646</td>\n",
       "      <td>60.555975</td>\n",
       "      <td>0.541140</td>\n",
       "      <td>0.493763</td>\n",
       "      <td>0.506237</td>\n",
       "      <td>-65.125904</td>\n",
       "      <td>25.586570</td>\n",
       "    </tr>\n",
       "    <tr>\n",
       "      <th>std</th>\n",
       "      <td>17.860668</td>\n",
       "      <td>3.01841</td>\n",
       "      <td>0.701358</td>\n",
       "      <td>24.439461</td>\n",
       "      <td>16.853676</td>\n",
       "      <td>14.262916</td>\n",
       "      <td>4.887681</td>\n",
       "      <td>11.083908</td>\n",
       "      <td>4.740792</td>\n",
       "      <td>3.829848</td>\n",
       "      <td>...</td>\n",
       "      <td>36.900216</td>\n",
       "      <td>7.837404</td>\n",
       "      <td>144.244636</td>\n",
       "      <td>98.521049</td>\n",
       "      <td>16.270062</td>\n",
       "      <td>0.498306</td>\n",
       "      <td>0.499962</td>\n",
       "      <td>0.499962</td>\n",
       "      <td>235.949149</td>\n",
       "      <td>27.142192</td>\n",
       "    </tr>\n",
       "    <tr>\n",
       "      <th>min</th>\n",
       "      <td>20.000000</td>\n",
       "      <td>20.00000</td>\n",
       "      <td>30.900000</td>\n",
       "      <td>20.000000</td>\n",
       "      <td>30.000000</td>\n",
       "      <td>20.000000</td>\n",
       "      <td>1.000000</td>\n",
       "      <td>10.000000</td>\n",
       "      <td>-23.200000</td>\n",
       "      <td>7.700000</td>\n",
       "      <td>...</td>\n",
       "      <td>20.000000</td>\n",
       "      <td>0.100000</td>\n",
       "      <td>35.000000</td>\n",
       "      <td>2.000000</td>\n",
       "      <td>16.000000</td>\n",
       "      <td>0.000000</td>\n",
       "      <td>0.000000</td>\n",
       "      <td>0.000000</td>\n",
       "      <td>-5366.860000</td>\n",
       "      <td>1.000000</td>\n",
       "    </tr>\n",
       "    <tr>\n",
       "      <th>25%</th>\n",
       "      <td>71.000000</td>\n",
       "      <td>96.00000</td>\n",
       "      <td>36.400000</td>\n",
       "      <td>109.000000</td>\n",
       "      <td>75.000000</td>\n",
       "      <td>57.000000</td>\n",
       "      <td>16.000000</td>\n",
       "      <td>27.000000</td>\n",
       "      <td>-5.350000</td>\n",
       "      <td>21.300000</td>\n",
       "      <td>...</td>\n",
       "      <td>28.000000</td>\n",
       "      <td>6.900000</td>\n",
       "      <td>195.000000</td>\n",
       "      <td>134.000000</td>\n",
       "      <td>50.000000</td>\n",
       "      <td>0.000000</td>\n",
       "      <td>0.000000</td>\n",
       "      <td>0.000000</td>\n",
       "      <td>-56.450000</td>\n",
       "      <td>10.000000</td>\n",
       "    </tr>\n",
       "    <tr>\n",
       "      <th>50%</th>\n",
       "      <td>82.000000</td>\n",
       "      <td>98.00000</td>\n",
       "      <td>36.700000</td>\n",
       "      <td>124.000000</td>\n",
       "      <td>85.000000</td>\n",
       "      <td>65.000000</td>\n",
       "      <td>18.000000</td>\n",
       "      <td>33.000000</td>\n",
       "      <td>-2.800000</td>\n",
       "      <td>23.700000</td>\n",
       "      <td>...</td>\n",
       "      <td>31.600000</td>\n",
       "      <td>9.400000</td>\n",
       "      <td>251.000000</td>\n",
       "      <td>187.000000</td>\n",
       "      <td>62.000000</td>\n",
       "      <td>1.000000</td>\n",
       "      <td>0.000000</td>\n",
       "      <td>1.000000</td>\n",
       "      <td>-8.800000</td>\n",
       "      <td>20.000000</td>\n",
       "    </tr>\n",
       "    <tr>\n",
       "      <th>75%</th>\n",
       "      <td>95.000000</td>\n",
       "      <td>99.00000</td>\n",
       "      <td>37.200000</td>\n",
       "      <td>142.000000</td>\n",
       "      <td>97.000000</td>\n",
       "      <td>75.000000</td>\n",
       "      <td>21.000000</td>\n",
       "      <td>37.000000</td>\n",
       "      <td>0.200000</td>\n",
       "      <td>25.900000</td>\n",
       "      <td>...</td>\n",
       "      <td>38.000000</td>\n",
       "      <td>12.400000</td>\n",
       "      <td>359.000000</td>\n",
       "      <td>247.000000</td>\n",
       "      <td>72.000000</td>\n",
       "      <td>1.000000</td>\n",
       "      <td>1.000000</td>\n",
       "      <td>1.000000</td>\n",
       "      <td>-3.160000</td>\n",
       "      <td>34.000000</td>\n",
       "    </tr>\n",
       "    <tr>\n",
       "      <th>max</th>\n",
       "      <td>194.000000</td>\n",
       "      <td>100.00000</td>\n",
       "      <td>42.100000</td>\n",
       "      <td>299.000000</td>\n",
       "      <td>296.000000</td>\n",
       "      <td>296.000000</td>\n",
       "      <td>100.000000</td>\n",
       "      <td>100.000000</td>\n",
       "      <td>13.300000</td>\n",
       "      <td>35.300000</td>\n",
       "      <td>...</td>\n",
       "      <td>250.000000</td>\n",
       "      <td>440.000000</td>\n",
       "      <td>1179.000000</td>\n",
       "      <td>2322.000000</td>\n",
       "      <td>101.000000</td>\n",
       "      <td>1.000000</td>\n",
       "      <td>1.000000</td>\n",
       "      <td>1.000000</td>\n",
       "      <td>0.000000</td>\n",
       "      <td>336.000000</td>\n",
       "    </tr>\n",
       "  </tbody>\n",
       "</table>\n",
       "<p>8 rows × 40 columns</p>\n",
       "</div>"
      ],
      "text/plain": [
       "                  HR         O2Sat           Temp            SBP  \\\n",
       "count  188467.000000  188467.00000  188467.000000  188467.000000   \n",
       "mean       83.925483      97.08436      36.775658     126.746056   \n",
       "std        17.860668       3.01841       0.701358      24.439461   \n",
       "min        20.000000      20.00000      30.900000      20.000000   \n",
       "25%        71.000000      96.00000      36.400000     109.000000   \n",
       "50%        82.000000      98.00000      36.700000     124.000000   \n",
       "75%        95.000000      99.00000      37.200000     142.000000   \n",
       "max       194.000000     100.00000      42.100000     299.000000   \n",
       "\n",
       "                 MAP            DBP           Resp          EtCO2  \\\n",
       "count  188467.000000  188467.000000  188467.000000  188376.000000   \n",
       "mean       86.913980      66.740225      18.599689      32.748715   \n",
       "std        16.853676      14.262916       4.887681      11.083908   \n",
       "min        30.000000      20.000000       1.000000      10.000000   \n",
       "25%        75.000000      57.000000      16.000000      27.000000   \n",
       "50%        85.000000      65.000000      18.000000      33.000000   \n",
       "75%        97.000000      75.000000      21.000000      37.000000   \n",
       "max       296.000000     296.000000     100.000000     100.000000   \n",
       "\n",
       "          BaseExcess           HCO3      ...                  PTT  \\\n",
       "count  187576.000000  187576.000000      ...        188440.000000   \n",
       "mean       -2.735286      23.239195      ...            42.096534   \n",
       "std         4.740792       3.829848      ...            36.900216   \n",
       "min       -23.200000       7.700000      ...            20.000000   \n",
       "25%        -5.350000      21.300000      ...            28.000000   \n",
       "50%        -2.800000      23.700000      ...            31.600000   \n",
       "75%         0.200000      25.900000      ...            38.000000   \n",
       "max        13.300000      35.300000      ...           250.000000   \n",
       "\n",
       "                 WBC     Fibrinogen      Platelets            Age  \\\n",
       "count  188461.000000  188428.000000  188461.000000  188467.000000   \n",
       "mean       10.422908     288.043115     198.956646      60.555975   \n",
       "std         7.837404     144.244636      98.521049      16.270062   \n",
       "min         0.100000      35.000000       2.000000      16.000000   \n",
       "25%         6.900000     195.000000     134.000000      50.000000   \n",
       "50%         9.400000     251.000000     187.000000      62.000000   \n",
       "75%        12.400000     359.000000     247.000000      72.000000   \n",
       "max       440.000000    1179.000000    2322.000000     101.000000   \n",
       "\n",
       "              Gender          Unit1          Unit2    HospAdmTime  \\\n",
       "count  188467.000000  188467.000000  188467.000000  188467.000000   \n",
       "mean        0.541140       0.493763       0.506237     -65.125904   \n",
       "std         0.498306       0.499962       0.499962     235.949149   \n",
       "min         0.000000       0.000000       0.000000   -5366.860000   \n",
       "25%         0.000000       0.000000       0.000000     -56.450000   \n",
       "50%         1.000000       0.000000       1.000000      -8.800000   \n",
       "75%         1.000000       1.000000       1.000000      -3.160000   \n",
       "max         1.000000       1.000000       1.000000       0.000000   \n",
       "\n",
       "              ICULOS  \n",
       "count  188467.000000  \n",
       "mean       25.586570  \n",
       "std        27.142192  \n",
       "min         1.000000  \n",
       "25%        10.000000  \n",
       "50%        20.000000  \n",
       "75%        34.000000  \n",
       "max       336.000000  \n",
       "\n",
       "[8 rows x 40 columns]"
      ]
     },
     "execution_count": 100,
     "metadata": {},
     "output_type": "execute_result"
    }
   ],
   "source": [
    "feature_copy =feature_data.copy()\n",
    "feature_copy.fillna(method = 'backfill', inplace=True)\n",
    "feature_copy.describe()"
   ]
  },
  {
   "cell_type": "code",
   "execution_count": 102,
   "metadata": {},
   "outputs": [
    {
     "data": {
      "text/plain": [
       "HR                    0\n",
       "O2Sat                 0\n",
       "Temp                  0\n",
       "SBP                   0\n",
       "MAP                   0\n",
       "DBP                   0\n",
       "Resp                  0\n",
       "EtCO2                91\n",
       "BaseExcess          891\n",
       "HCO3                891\n",
       "FiO2                268\n",
       "pH                  273\n",
       "PaCO2               273\n",
       "SaO2                369\n",
       "AST                  39\n",
       "BUN                   6\n",
       "Alkalinephos         39\n",
       "Calcium               6\n",
       "Chloride            273\n",
       "Creatinine            6\n",
       "Bilirubin_direct     64\n",
       "Glucose               0\n",
       "Lactate             273\n",
       "Magnesium             6\n",
       "Phosphate            26\n",
       "Potassium             6\n",
       "Bilirubin_total      39\n",
       "TroponinI            64\n",
       "Hct                   6\n",
       "Hgb                   6\n",
       "PTT                  27\n",
       "WBC                   6\n",
       "Fibrinogen           39\n",
       "Platelets             6\n",
       "Age                   0\n",
       "Gender                0\n",
       "Unit1                 0\n",
       "Unit2                 0\n",
       "HospAdmTime           0\n",
       "ICULOS                0\n",
       "dtype: int64"
      ]
     },
     "execution_count": 102,
     "metadata": {},
     "output_type": "execute_result"
    }
   ],
   "source": [
    "feature_copy.isna().sum()"
   ]
  },
  {
   "cell_type": "code",
   "execution_count": 107,
   "metadata": {},
   "outputs": [
    {
     "data": {
      "text/plain": [
       "Index(['HR', 'O2Sat', 'Temp', 'SBP', 'MAP', 'DBP', 'Resp', 'EtCO2',\n",
       "       'BaseExcess', 'HCO3', 'FiO2', 'pH', 'PaCO2', 'SaO2', 'AST', 'BUN',\n",
       "       'Alkalinephos', 'Calcium', 'Chloride', 'Creatinine', 'Bilirubin_direct',\n",
       "       'Glucose', 'Lactate', 'Magnesium', 'Phosphate', 'Potassium',\n",
       "       'Bilirubin_total', 'TroponinI', 'Hct', 'Hgb', 'PTT', 'WBC',\n",
       "       'Fibrinogen', 'Platelets', 'Age', 'Gender', 'Unit1', 'Unit2',\n",
       "       'HospAdmTime', 'ICULOS'],\n",
       "      dtype='object')"
      ]
     },
     "execution_count": 107,
     "metadata": {},
     "output_type": "execute_result"
    }
   ],
   "source": [
    "feature_copy.fillna(method = 'ffill', inplace=True)\n",
    "feature_copy.isna().sum()\n",
    "feature_copy.columns"
   ]
  },
  {
   "cell_type": "code",
   "execution_count": 62,
   "metadata": {},
   "outputs": [
    {
     "name": "stdout",
     "output_type": "stream",
     "text": [
      "Index(['HR', 'O2Sat', 'Temp', 'SBP', 'MAP', 'DBP', 'Resp', 'EtCO2',\n",
      "       'BaseExcess', 'HCO3', 'FiO2', 'pH', 'PaCO2', 'SaO2', 'AST', 'BUN',\n",
      "       'Alkalinephos', 'Calcium', 'Chloride', 'Creatinine', 'Bilirubin_direct',\n",
      "       'Glucose', 'Lactate', 'Magnesium', 'Phosphate', 'Potassium',\n",
      "       'Bilirubin_total', 'TroponinI', 'Hct', 'Hgb', 'PTT', 'WBC',\n",
      "       'Fibrinogen', 'Platelets', 'Age', 'Gender', 'Unit1', 'Unit2',\n",
      "       'HospAdmTime', 'ICULOS'],\n",
      "      dtype='object')\n"
     ]
    }
   ],
   "source": [
    "features = feature_data.columns\n",
    "print(features)"
   ]
  },
  {
   "cell_type": "code",
   "execution_count": 63,
   "metadata": {},
   "outputs": [
    {
     "name": "stdout",
     "output_type": "stream",
     "text": [
      "Index(['HR', 'O2Sat', 'Temp', 'SBP', 'MAP'], dtype='object')\n"
     ]
    }
   ],
   "source": [
    "features_1 = features[0:5]\n",
    "print(features_1)"
   ]
  },
  {
   "cell_type": "code",
   "execution_count": 105,
   "metadata": {},
   "outputs": [],
   "source": [
    "box_data = pd.concat([label,feature_data.iloc[:,16:32]],axis=1)\n",
    "box_data = pd.melt(box_data,id_vars=\"SepsisLabel\",\n",
    "                    var_name=\"features\",\n",
    "                    value_name='value')\n",
    "\n",
    "#box_data.head(10)\n",
    "#box_data['features'].unique\n",
    "#box_data.shape"
   ]
  },
  {
   "cell_type": "code",
   "execution_count": 106,
   "metadata": {},
   "outputs": [
    {
     "data": {
      "text/plain": [
       "(array([ 0,  1,  2,  3,  4,  5,  6,  7,  8,  9, 10, 11, 12, 13, 14, 15]),\n",
       " <a list of 16 Text xticklabel objects>)"
      ]
     },
     "execution_count": 106,
     "metadata": {},
     "output_type": "execute_result"
    },
    {
     "data": {
      "image/png": "[encoded data removed]",
      "text/plain": [
       "<Figure size 1440x720 with 1 Axes>"
      ]
     },
     "metadata": {},
     "output_type": "display_data"
    }
   ],
   "source": [
    "plt.figure(figsize=(20,10))\n",
    "sns.boxplot(x=\"features\", y=\"value\", hue=\"SepsisLabel\", data=box_data)\n",
    "plt.xticks(rotation=90)"
   ]
  },
  {
   "cell_type": "code",
   "execution_count": 112,
   "metadata": {},
   "outputs": [],
   "source": [
    "x_1 = (feature_copy - feature_copy.mean()) / (feature_copy.std())  \n",
    "y = label"
   ]
  },
  {
   "cell_type": "code",
   "execution_count": 113,
   "metadata": {},
   "outputs": [
    {
     "name": "stdout",
     "output_type": "stream",
     "text": [
      "Accuracy is:  0.9945526255283776\n"
     ]
    },
    {
     "data": {
      "text/plain": [
       "<matplotlib.axes._subplots.AxesSubplot at 0x1579aec3748>"
      ]
     },
     "execution_count": 113,
     "metadata": {},
     "output_type": "execute_result"
    },
    {
     "data": {
      "image/png": "[encoded data removed]",
      "text/plain": [
       "<Figure size 432x288 with 2 Axes>"
      ]
     },
     "metadata": {},
     "output_type": "display_data"
    }
   ],
   "source": [
    "from sklearn.model_selection import train_test_split\n",
    "from sklearn.ensemble import RandomForestClassifier\n",
    "from sklearn.metrics import f1_score,confusion_matrix\n",
    "from sklearn.metrics import accuracy_score\n",
    "\n",
    "# split data train 70 % and test 30 %\n",
    "x_train, x_test, y_train, y_test = train_test_split(x_1, y, test_size=0.3, random_state=42)\n",
    "\n",
    "#random forest classifier with n_estimators=10 (default)\n",
    "clf_rf = RandomForestClassifier(random_state=43)      \n",
    "clr_rf = clf_rf.fit(x_train,y_train)\n",
    "\n",
    "ac = accuracy_score(y_test,clf_rf.predict(x_test))\n",
    "print('Accuracy is: ',ac)\n",
    "cm = confusion_matrix(y_test,clf_rf.predict(x_test))\n",
    "sns.heatmap(cm,annot=True,fmt=\"d\")"
   ]
  },
  {
   "cell_type": "code",
   "execution_count": 114,
   "metadata": {},
   "outputs": [
    {
     "name": "stdout",
     "output_type": "stream",
     "text": [
      "Feature ranking:\n",
      "1. feature 39 (0.084326)\n",
      "2. feature 2 (0.045602)\n",
      "3. feature 17 (0.034393)\n",
      "4. feature 0 (0.033968)\n",
      "5. feature 38 (0.033911)\n",
      "6. feature 34 (0.033606)\n",
      "7. feature 21 (0.030694)\n",
      "8. feature 28 (0.030049)\n",
      "9. feature 19 (0.029994)\n",
      "10. feature 29 (0.028459)\n",
      "11. feature 31 (0.028064)\n",
      "12. feature 4 (0.026902)\n",
      "13. feature 6 (0.026638)\n",
      "14. feature 3 (0.026449)\n",
      "15. feature 7 (0.026286)\n",
      "16. feature 23 (0.026077)\n",
      "17. feature 5 (0.025863)\n",
      "18. feature 13 (0.025647)\n",
      "19. feature 33 (0.025505)\n",
      "20. feature 14 (0.024058)\n",
      "21. feature 16 (0.023187)\n",
      "22. feature 22 (0.022222)\n",
      "23. feature 30 (0.022015)\n",
      "24. feature 12 (0.021679)\n",
      "25. feature 15 (0.021676)\n",
      "26. feature 8 (0.021492)\n",
      "27. feature 25 (0.020992)\n",
      "28. feature 24 (0.020380)\n",
      "29. feature 11 (0.020173)\n",
      "30. feature 27 (0.019479)\n",
      "31. feature 10 (0.019308)\n",
      "32. feature 20 (0.018400)\n",
      "33. feature 9 (0.018193)\n",
      "34. feature 32 (0.017641)\n",
      "35. feature 1 (0.017183)\n",
      "36. feature 26 (0.017063)\n",
      "37. feature 18 (0.016777)\n",
      "38. feature 35 (0.005776)\n",
      "39. feature 36 (0.005102)\n",
      "40. feature 37 (0.004771)\n"
     ]
    },
    {
     "data": {
      "image/png": "[encoded data removed]",
      "text/plain": [
       "<Figure size 1008x936 with 1 Axes>"
      ]
     },
     "metadata": {},
     "output_type": "display_data"
    }
   ],
   "source": [
    "clf_rf_5 = RandomForestClassifier()      \n",
    "clr_rf_5 = clf_rf_5.fit(x_train,y_train)\n",
    "importances = clr_rf_5.feature_importances_\n",
    "std = np.std([tree.feature_importances_ for tree in clf_rf.estimators_],\n",
    "             axis=0)\n",
    "indices = np.argsort(importances)[::-1]\n",
    "\n",
    "print(\"Feature ranking:\")\n",
    "\n",
    "for f in range(x_train.shape[1]):\n",
    "    print(\"%d. feature %d (%f)\" % (f + 1, indices[f], importances[indices[f]]))\n",
    "\n",
    "# Plot the feature importances of the forest\n",
    "\n",
    "plt.figure(1, figsize=(14, 13))\n",
    "plt.title(\"Feature importances\")\n",
    "plt.bar(range(x_train.shape[1]), importances[indices],\n",
    "       color=\"g\", yerr=std[indices], align=\"center\")\n",
    "plt.xticks(range(x_train.shape[1]), x_train.columns[indices],rotation=90)\n",
    "plt.xlim([-1, x_train.shape[1]])\n",
    "plt.show()"
   ]
  },
  {
   "cell_type": "code",
   "execution_count": 118,
   "metadata": {},
   "outputs": [
    {
     "data": {
      "text/plain": [
       "(188467, 40)"
      ]
     },
     "execution_count": 118,
     "metadata": {},
     "output_type": "execute_result"
    }
   ],
   "source": [
    "sampling_data = feature_copy.copy()\n",
    "sampling_data.shape"
   ]
  },
  {
   "cell_type": "code",
   "execution_count": 120,
   "metadata": {},
   "outputs": [
    {
     "data": {
      "text/plain": [
       "Index(['HR', 'O2Sat', 'Temp', 'SBP', 'MAP', 'DBP', 'Resp', 'EtCO2',\n",
       "       'BaseExcess', 'HCO3', 'FiO2', 'pH', 'PaCO2', 'SaO2', 'AST', 'BUN',\n",
       "       'Alkalinephos', 'Calcium', 'Chloride', 'Creatinine', 'Bilirubin_direct',\n",
       "       'Glucose', 'Lactate', 'Magnesium', 'Phosphate', 'Potassium',\n",
       "       'Bilirubin_total', 'TroponinI', 'Hct', 'Hgb', 'PTT', 'WBC',\n",
       "       'Fibrinogen', 'Platelets', 'Age', 'Gender', 'Unit1', 'Unit2',\n",
       "       'HospAdmTime', 'ICULOS'],\n",
       "      dtype='object')"
      ]
     },
     "execution_count": 120,
     "metadata": {},
     "output_type": "execute_result"
    }
   ],
   "source": [
    "from sklearn.utils import resample\n",
    "feature_copy.columns"
   ]
  },
  {
   "cell_type": "code",
   "execution_count": 121,
   "metadata": {},
   "outputs": [],
   "source": [
    "merge_data = pd.concat([feature_copy, label], axis = 1)"
   ]
  },
  {
   "cell_type": "code",
   "execution_count": 133,
   "metadata": {},
   "outputs": [
    {
     "data": {
      "text/plain": [
       "count    188467.000000\n",
       "mean          0.013918\n",
       "std           0.117149\n",
       "min           0.000000\n",
       "25%           0.000000\n",
       "50%           0.000000\n",
       "75%           0.000000\n",
       "max           1.000000\n",
       "Name: SepsisLabel, dtype: float64"
      ]
     },
     "execution_count": 133,
     "metadata": {},
     "output_type": "execute_result"
    }
   ],
   "source": []
  },
  {
   "cell_type": "code",
   "execution_count": 139,
   "metadata": {},
   "outputs": [
    {
     "data": {
      "text/plain": [
       "(2623, 41)"
      ]
     },
     "execution_count": 139,
     "metadata": {},
     "output_type": "execute_result"
    }
   ],
   "source": [
    "data_positive = merge_data[merge_data.SepsisLabel == 1]\n",
    "data_negative = merge_data[merge_data.SepsisLabel == 0]\n",
    "data_positive.shape"
   ]
  },
  {
   "cell_type": "code",
   "execution_count": 140,
   "metadata": {},
   "outputs": [
    {
     "data": {
      "text/plain": [
       "(10000, 41)"
      ]
     },
     "execution_count": 140,
     "metadata": {},
     "output_type": "execute_result"
    }
   ],
   "source": [
    "data_positive_up = resample(data_positive, replace = True, n_samples = 10000, random_state = 123)\n",
    "data_positive_up.shape"
   ]
  },
  {
   "cell_type": "code",
   "execution_count": 141,
   "metadata": {},
   "outputs": [],
   "source": [
    "data_negative_down = resample(data_negative, replace = False, n_samples = 40000, random_state = 123)"
   ]
  },
  {
   "cell_type": "code",
   "execution_count": 142,
   "metadata": {},
   "outputs": [],
   "source": [
    "sampled_data = pd.concat([data_positive_up, data_negative_down])"
   ]
  },
  {
   "cell_type": "code",
   "execution_count": 143,
   "metadata": {},
   "outputs": [],
   "source": [
    "sepsis_label = sampled_data.SepsisLabel"
   ]
  },
  {
   "cell_type": "code",
   "execution_count": 146,
   "metadata": {},
   "outputs": [
    {
     "data": {
      "text/plain": [
       "Index(['HR', 'O2Sat', 'Temp', 'SBP', 'MAP', 'DBP', 'Resp', 'EtCO2',\n",
       "       'BaseExcess', 'HCO3', 'FiO2', 'pH', 'PaCO2', 'SaO2', 'AST', 'BUN',\n",
       "       'Alkalinephos', 'Calcium', 'Chloride', 'Creatinine', 'Bilirubin_direct',\n",
       "       'Glucose', 'Lactate', 'Magnesium', 'Phosphate', 'Potassium',\n",
       "       'Bilirubin_total', 'TroponinI', 'Hct', 'Hgb', 'PTT', 'WBC',\n",
       "       'Fibrinogen', 'Platelets', 'Age', 'Gender', 'Unit1', 'Unit2',\n",
       "       'HospAdmTime', 'ICULOS'],\n",
       "      dtype='object')"
      ]
     },
     "execution_count": 146,
     "metadata": {},
     "output_type": "execute_result"
    }
   ],
   "source": [
    "sampled_train_data = sampled_data.drop('SepsisLabel', axis = 1)\n",
    "sampled_train_data.columns"
   ]
  },
  {
   "cell_type": "code",
   "execution_count": 150,
   "metadata": {},
   "outputs": [],
   "source": [
    "sampled_train_data = (sampled_train_data - sampled_train_data.mean())/sampled_train_data.std()"
   ]
  },
  {
   "cell_type": "code",
   "execution_count": 151,
   "metadata": {},
   "outputs": [
    {
     "name": "stdout",
     "output_type": "stream",
     "text": [
      "Accuracy is:  0.9948666666666667\n"
     ]
    },
    {
     "data": {
      "text/plain": [
       "<matplotlib.axes._subplots.AxesSubplot at 0x1579d3f3438>"
      ]
     },
     "execution_count": 151,
     "metadata": {},
     "output_type": "execute_result"
    },
    {
     "data": {
      "image/png": "[encoded data removed]",
      "text/plain": [
       "<Figure size 432x288 with 2 Axes>"
      ]
     },
     "metadata": {},
     "output_type": "display_data"
    }
   ],
   "source": [
    "x_train, x_test, y_train, y_test = train_test_split(sampled_train_data, sepsis_label, test_size=0.3, random_state=42)\n",
    "\n",
    "#random forest classifier with n_estimators=10 (default)\n",
    "clf_rf = RandomForestClassifier(random_state=43)      \n",
    "clr_rf = clf_rf.fit(x_train,y_train)\n",
    "\n",
    "ac = accuracy_score(y_test,clf_rf.predict(x_test))\n",
    "print('Accuracy is: ',ac)\n",
    "cm = confusion_matrix(y_test,clf_rf.predict(x_test))\n",
    "sns.heatmap(cm,annot=True,fmt=\"d\")"
   ]
  },
  {
   "cell_type": "code",
   "execution_count": 152,
   "metadata": {},
   "outputs": [
    {
     "name": "stdout",
     "output_type": "stream",
     "text": [
      "Feature ranking:\n",
      "1. feature 39 (0.127361)\n",
      "2. feature 38 (0.064104)\n",
      "3. feature 2 (0.050591)\n",
      "4. feature 17 (0.043105)\n",
      "5. feature 31 (0.031164)\n",
      "6. feature 34 (0.027939)\n",
      "7. feature 0 (0.027788)\n",
      "8. feature 19 (0.027634)\n",
      "9. feature 30 (0.027073)\n",
      "10. feature 33 (0.025820)\n",
      "11. feature 21 (0.025658)\n",
      "12. feature 32 (0.024792)\n",
      "13. feature 13 (0.024548)\n",
      "14. feature 12 (0.024203)\n",
      "15. feature 15 (0.024155)\n",
      "16. feature 14 (0.023958)\n",
      "17. feature 28 (0.022816)\n",
      "18. feature 29 (0.022552)\n",
      "19. feature 27 (0.022391)\n",
      "20. feature 23 (0.022165)\n",
      "21. feature 22 (0.021762)\n",
      "22. feature 16 (0.021668)\n",
      "23. feature 8 (0.021045)\n",
      "24. feature 25 (0.020339)\n",
      "25. feature 24 (0.020227)\n",
      "26. feature 6 (0.020217)\n",
      "27. feature 11 (0.019757)\n",
      "28. feature 9 (0.018691)\n",
      "29. feature 26 (0.017557)\n",
      "30. feature 5 (0.016877)\n",
      "31. feature 7 (0.016469)\n",
      "32. feature 3 (0.015936)\n",
      "33. feature 4 (0.015063)\n",
      "34. feature 18 (0.014594)\n",
      "35. feature 20 (0.014008)\n",
      "36. feature 1 (0.012925)\n",
      "37. feature 10 (0.011669)\n",
      "38. feature 35 (0.004495)\n",
      "39. feature 36 (0.004086)\n",
      "40. feature 37 (0.002799)\n"
     ]
    },
    {
     "data": {
      "image/png": "[encoded data removed]",
      "text/plain": [
       "<Figure size 1008x936 with 1 Axes>"
      ]
     },
     "metadata": {},
     "output_type": "display_data"
    }
   ],
   "source": [
    "importances = clr_rf.feature_importances_\n",
    "std = np.std([tree.feature_importances_ for tree in clf_rf.estimators_],\n",
    "             axis=0)\n",
    "indices = np.argsort(importances)[::-1]\n",
    "\n",
    "print(\"Feature ranking:\")\n",
    "\n",
    "for f in range(x_train.shape[1]):\n",
    "    print(\"%d. feature %d (%f)\" % (f + 1, indices[f], importances[indices[f]]))\n",
    "\n",
    "# Plot the feature importances of the forest\n",
    "\n",
    "plt.figure(1, figsize=(14, 13))\n",
    "plt.title(\"Feature importances\")\n",
    "plt.bar(range(x_train.shape[1]), importances[indices],\n",
    "       color=\"g\", yerr=std[indices], align=\"center\")\n",
    "plt.xticks(range(x_train.shape[1]), x_train.columns[indices],rotation=90)\n",
    "plt.xlim([-1, x_train.shape[1]])\n",
    "plt.show()"
   ]
  },
  {
   "cell_type": "code",
   "execution_count": 6,
   "metadata": {},
   "outputs": [],
   "source": [
    "p_data = pd.read_csv('Full_data/p03044.psv', sep = '|')"
   ]
  },
  {
   "cell_type": "code",
   "execution_count": 7,
   "metadata": {},
   "outputs": [],
   "source": [
    "allFiles = glob.glob(\"Full_data/p*.psv\")\n",
    "np_array_list = []\n",
    "for file_ in allFiles:\n",
    "    #print(file_)\n",
    "    dftmp = pd.read_csv(file_,sep = '|')\n",
    "    dftmp.fillna(method = 'backfill', inplace=True)\n",
    "    dftmp.fillna(method = 'ffill', inplace=True)\n",
    "    p_data = pd.concat([p_data, dftmp])"
   ]
  },
  {
   "cell_type": "code",
   "execution_count": 32,
   "metadata": {},
   "outputs": [],
   "source": [
    "p_data.shape\n",
    "nan_stat = p_data.isna().sum()/p_data.shape[0]"
   ]
  },
  {
   "cell_type": "code",
   "execution_count": 9,
   "metadata": {},
   "outputs": [
    {
     "name": "stdout",
     "output_type": "stream",
     "text": [
      "HR                  0.000080\n",
      "O2Sat               0.000005\n",
      "Temp                0.000605\n",
      "SBP                 0.000488\n",
      "MAP                 0.002377\n",
      "DBP                 0.000812\n",
      "Resp                0.002579\n",
      "EtCO2               0.802788\n",
      "BaseExcess          0.961144\n",
      "HCO3                0.974606\n",
      "FiO2                0.659224\n",
      "pH                  0.665554\n",
      "PaCO2               0.664939\n",
      "SaO2                0.700218\n",
      "AST                 0.528830\n",
      "BUN                 0.058488\n",
      "Alkalinephos        0.528299\n",
      "Calcium             0.057198\n",
      "Chloride            0.906360\n",
      "Creatinine          0.058281\n",
      "Bilirubin_direct    0.905782\n",
      "Glucose             0.044841\n",
      "Lactate             0.724196\n",
      "Magnesium           0.139186\n",
      "Phosphate           0.373094\n",
      "Potassium           0.054057\n",
      "Bilirubin_total     0.528071\n",
      "TroponinI           0.650618\n",
      "Hct                 0.071429\n",
      "Hgb                 0.071079\n",
      "PTT                 0.743064\n",
      "WBC                 0.072671\n",
      "Fibrinogen          0.873384\n",
      "Platelets           0.072076\n",
      "Age                 0.000000\n",
      "Gender              0.000000\n",
      "Unit1               0.284777\n",
      "Unit2               0.284777\n",
      "HospAdmTime         0.000000\n",
      "ICULOS              0.000000\n",
      "SepsisLabel         0.000000\n",
      "dtype: float64\n"
     ]
    }
   ],
   "source": [
    "print(nan_stat)"
   ]
  },
  {
   "cell_type": "code",
   "execution_count": 33,
   "metadata": {},
   "outputs": [
    {
     "data": {
      "text/plain": [
       "<matplotlib.axes._subplots.AxesSubplot at 0x14833e775f8>"
      ]
     },
     "execution_count": 33,
     "metadata": {},
     "output_type": "execute_result"
    },
    {
     "data": {
      "image/png": "[encoded data removed]",
      "text/plain": [
       "<Figure size 432x288 with 1 Axes>"
      ]
     },
     "metadata": {},
     "output_type": "display_data"
    }
   ],
   "source": [
    "nan_stat.plot.bar()\n",
    "#particle filtering"
   ]
  },
  {
   "cell_type": "code",
   "execution_count": 34,
   "metadata": {},
   "outputs": [
    {
     "data": {
      "text/plain": [
       "['EtCO2',\n",
       " 'BaseExcess',\n",
       " 'HCO3',\n",
       " 'FiO2',\n",
       " 'pH',\n",
       " 'PaCO2',\n",
       " 'SaO2',\n",
       " 'AST',\n",
       " 'Alkalinephos',\n",
       " 'Chloride',\n",
       " 'Bilirubin_direct',\n",
       " 'Lactate',\n",
       " 'Phosphate',\n",
       " 'Bilirubin_total',\n",
       " 'TroponinI',\n",
       " 'PTT',\n",
       " 'Fibrinogen']"
      ]
     },
     "execution_count": 34,
     "metadata": {},
     "output_type": "execute_result"
    }
   ],
   "source": [
    "bad_features = nan_stat[nan_stat > 0.3]\n",
    "bad_features.index.tolist()"
   ]
  },
  {
   "cell_type": "code",
   "execution_count": 35,
   "metadata": {},
   "outputs": [],
   "source": [
    "drop_features = bad_features.index.tolist()\n",
    "good_feature_data = p_data.drop(drop_features, axis = 1)"
   ]
  },
  {
   "cell_type": "code",
   "execution_count": 36,
   "metadata": {},
   "outputs": [
    {
     "data": {
      "text/plain": [
       "Index(['HR', 'O2Sat', 'Temp', 'SBP', 'MAP', 'DBP', 'Resp', 'BUN', 'Calcium',\n",
       "       'Creatinine', 'Glucose', 'Magnesium', 'Potassium', 'Hct', 'Hgb', 'WBC',\n",
       "       'Platelets', 'Age', 'Gender', 'Unit1', 'Unit2', 'HospAdmTime', 'ICULOS',\n",
       "       'SepsisLabel'],\n",
       "      dtype='object')"
      ]
     },
     "execution_count": 36,
     "metadata": {},
     "output_type": "execute_result"
    }
   ],
   "source": [
    "good_feature_data.columns"
   ]
  },
  {
   "cell_type": "code",
   "execution_count": 37,
   "metadata": {},
   "outputs": [
    {
     "data": {
      "text/plain": [
       "(188467, 24)"
      ]
     },
     "execution_count": 37,
     "metadata": {},
     "output_type": "execute_result"
    }
   ],
   "source": [
    "good_feature_data.shape"
   ]
  },
  {
   "cell_type": "code",
   "execution_count": 41,
   "metadata": {},
   "outputs": [
    {
     "name": "stdout",
     "output_type": "stream",
     "text": [
      "HR             0.000080\n",
      "O2Sat          0.000005\n",
      "Temp           0.000605\n",
      "SBP            0.000488\n",
      "MAP            0.002377\n",
      "DBP            0.000812\n",
      "Resp           0.002579\n",
      "BUN            0.058488\n",
      "Calcium        0.057198\n",
      "Creatinine     0.058281\n",
      "Glucose        0.044841\n",
      "Magnesium      0.139186\n",
      "Potassium      0.054057\n",
      "Hct            0.071429\n",
      "Hgb            0.071079\n",
      "WBC            0.072671\n",
      "Platelets      0.072076\n",
      "Age            0.000000\n",
      "Gender         0.000000\n",
      "Unit1          0.284777\n",
      "Unit2          0.284777\n",
      "HospAdmTime    0.000000\n",
      "ICULOS         0.000000\n",
      "SepsisLabel    0.000000\n",
      "dtype: float64\n"
     ]
    }
   ],
   "source": [
    "nan_stat = good_feature_data.isna().sum()/good_feature_data.shape[0]\n",
    "print(nan_stat)"
   ]
  },
  {
   "cell_type": "code",
   "execution_count": 44,
   "metadata": {},
   "outputs": [],
   "source": [
    "good_feature_data.dropna(inplace = True)"
   ]
  },
  {
   "cell_type": "code",
   "execution_count": 46,
   "metadata": {},
   "outputs": [],
   "source": [
    "y = good_feature_data.SepsisLabel\n",
    "x_1 = good_feature_data.drop('SepsisLabel', axis = 1)"
   ]
  },
  {
   "cell_type": "code",
   "execution_count": 47,
   "metadata": {},
   "outputs": [
    {
     "name": "stdout",
     "output_type": "stream",
     "text": [
      "Accuracy is:  0.9956319491717722\n"
     ]
    },
    {
     "data": {
      "text/plain": [
       "<matplotlib.axes._subplots.AxesSubplot at 0x14835ba0f60>"
      ]
     },
     "execution_count": 47,
     "metadata": {},
     "output_type": "execute_result"
    },
    {
     "data": {
      "image/png": "[encoded data removed]",
      "text/plain": [
       "<Figure size 432x288 with 2 Axes>"
      ]
     },
     "metadata": {},
     "output_type": "display_data"
    }
   ],
   "source": [
    "from sklearn.model_selection import train_test_split\n",
    "from sklearn.ensemble import RandomForestClassifier\n",
    "from sklearn.metrics import f1_score,confusion_matrix\n",
    "from sklearn.metrics import accuracy_score\n",
    "\n",
    "# split data train 70 % and test 30 %\n",
    "x_train, x_test, y_train, y_test = train_test_split(x_1, y, test_size=0.3, random_state=42)\n",
    "\n",
    "#random forest classifier with n_estimators=10 (default)\n",
    "clf_rf = RandomForestClassifier(random_state=43)      \n",
    "clr_rf = clf_rf.fit(x_train,y_train)\n",
    "\n",
    "ac = accuracy_score(y_test,clf_rf.predict(x_test))\n",
    "print('Accuracy is: ',ac)\n",
    "cm = confusion_matrix(y_test,clf_rf.predict(x_test))\n",
    "sns.heatmap(cm,annot=True,fmt=\"d\")"
   ]
  },
  {
   "cell_type": "code",
   "execution_count": 48,
   "metadata": {},
   "outputs": [
    {
     "name": "stdout",
     "output_type": "stream",
     "text": [
      "Feature ranking:\n",
      "1. feature 22 (0.132083)\n",
      "2. feature 2 (0.062226)\n",
      "3. feature 15 (0.056502)\n",
      "4. feature 8 (0.053534)\n",
      "5. feature 10 (0.051873)\n",
      "6. feature 6 (0.049593)\n",
      "7. feature 16 (0.048506)\n",
      "8. feature 0 (0.047887)\n",
      "9. feature 17 (0.047242)\n",
      "10. feature 12 (0.045395)\n",
      "11. feature 7 (0.044449)\n",
      "12. feature 9 (0.042213)\n",
      "13. feature 13 (0.041770)\n",
      "14. feature 21 (0.040644)\n",
      "15. feature 14 (0.040412)\n",
      "16. feature 3 (0.040299)\n",
      "17. feature 4 (0.038101)\n",
      "18. feature 5 (0.036892)\n",
      "19. feature 11 (0.033705)\n",
      "20. feature 1 (0.025883)\n",
      "21. feature 18 (0.007983)\n",
      "22. feature 19 (0.007384)\n",
      "23. feature 20 (0.005425)\n"
     ]
    },
    {
     "data": {
      "image/png": "[encoded data removed]",
      "text/plain": [
       "<Figure size 1008x936 with 1 Axes>"
      ]
     },
     "metadata": {},
     "output_type": "display_data"
    }
   ],
   "source": [
    "clf_rf_5 = RandomForestClassifier()      \n",
    "clr_rf_5 = clf_rf_5.fit(x_train,y_train)\n",
    "importances = clr_rf_5.feature_importances_\n",
    "std = np.std([tree.feature_importances_ for tree in clf_rf.estimators_],\n",
    "             axis=0)\n",
    "indices = np.argsort(importances)[::-1]\n",
    "\n",
    "print(\"Feature ranking:\")\n",
    "\n",
    "for f in range(x_train.shape[1]):\n",
    "    print(\"%d. feature %d (%f)\" % (f + 1, indices[f], importances[indices[f]]))\n",
    "\n",
    "# Plot the feature importances of the forest\n",
    "\n",
    "plt.figure(1, figsize=(14, 13))\n",
    "plt.title(\"Feature importances\")\n",
    "plt.bar(range(x_train.shape[1]), importances[indices],\n",
    "       color=\"g\", yerr=std[indices], align=\"center\")\n",
    "plt.xticks(range(x_train.shape[1]), x_train.columns[indices],rotation=90)\n",
    "plt.xlim([-1, x_train.shape[1]])\n",
    "plt.show()"
   ]
  },
  {
   "cell_type": "code",
   "execution_count": 4,
   "metadata": {},
   "outputs": [
    {
     "name": "stdout",
     "output_type": "stream",
     "text": [
      "Index(['HR', 'O2Sat', 'Temp', 'SBP', 'MAP', 'DBP', 'Resp', 'EtCO2',\n",
      "       'BaseExcess', 'HCO3', 'FiO2', 'pH', 'PaCO2', 'SaO2', 'AST', 'BUN',\n",
      "       'Alkalinephos', 'Calcium', 'Chloride', 'Creatinine', 'Bilirubin_direct',\n",
      "       'Glucose', 'Lactate', 'Magnesium', 'Phosphate', 'Potassium',\n",
      "       'Bilirubin_total', 'TroponinI', 'Hct', 'Hgb', 'PTT', 'WBC',\n",
      "       'Fibrinogen', 'Platelets', 'Age', 'Gender', 'Unit1', 'Unit2',\n",
      "       'HospAdmTime', 'ICULOS', 'SepsisLabel'],\n",
      "      dtype='object')\n"
     ]
    }
   ],
   "source": [
    "p_data = pd.read_csv('Full_data/p03044.psv', sep = '|')\n",
    "iculos_nan = []\n",
    "p_data['ICULOS'].isna().sum()/p_data.shape[0]\n",
    "feature_list = p_data.columns\n",
    "print(feature_list)"
   ]
  },
  {
   "cell_type": "code",
   "execution_count": 30,
   "metadata": {},
   "outputs": [],
   "source": [
    "allFiles = glob.glob(\"Full_data/p*.psv\")\n",
    "nan_stats = {}\n",
    "for feature in feature_list:\n",
    "    new_list = []\n",
    "    nan_stats[feature] = new_list\n",
    "    \n",
    "for file_ in allFiles:\n",
    "    #print(file_)\n",
    "    dftmp = pd.read_csv(file_,sep = '|')\n",
    "    for feature in feature_list:\n",
    "        nan_ratio = dftmp[feature].isna().sum()/dftmp.shape[0]\n",
    "        nan_stats[feature].append(nan_ratio)\n",
    "    dftmp.fillna(method = 'backfill', inplace=True)\n",
    "    dftmp.fillna(method = 'ffill', inplace=True)\n",
    "    p_data = pd.concat([p_data, dftmp])"
   ]
  },
  {
   "cell_type": "code",
   "execution_count": 29,
   "metadata": {},
   "outputs": [
    {
     "data": {
      "image/png": "[encoded data removed]",
      "text/plain": [
       "<Figure size 432x288 with 1 Axes>"
      ]
     },
     "metadata": {},
     "output_type": "display_data"
    }
   ],
   "source": [
    "import matplotlib.pyplot as plt\n",
    "plt.hist(nan_stats['MAP'])\n",
    "plt.xlabel('ratio of missing data')\n",
    "plt.ylabel('Number of patients')\n",
    "plt.title('Feature: \\'MAP\\'')\n",
    "plt.show()"
   ]
  },
  {
   "cell_type": "code",
   "execution_count": 31,
   "metadata": {},
   "outputs": [
    {
     "data": {
      "text/plain": [
       "HR                  0.061305\n",
       "O2Sat               0.071105\n",
       "Temp                0.331853\n",
       "SBP                 0.070668\n",
       "MAP                 0.076098\n",
       "DBP                 0.070930\n",
       "Resp                0.108105\n",
       "EtCO2               0.865136\n",
       "BaseExcess          0.979484\n",
       "HCO3                0.986435\n",
       "FiO2                0.818399\n",
       "pH                  0.821678\n",
       "PaCO2               0.821357\n",
       "SaO2                0.840754\n",
       "AST                 0.755460\n",
       "BUN                 0.501658\n",
       "Alkalinephos        0.755142\n",
       "Calcium             0.494487\n",
       "Chloride            0.950096\n",
       "Creatinine          0.501523\n",
       "Bilirubin_direct    0.951730\n",
       "Glucose             0.411387\n",
       "Lactate             0.852775\n",
       "Magnesium           0.545813\n",
       "Phosphate           0.671962\n",
       "Potassium           0.488642\n",
       "Bilirubin_total     0.755009\n",
       "TroponinI           0.815903\n",
       "Hct                 0.506675\n",
       "Hgb                 0.506227\n",
       "PTT                 0.866558\n",
       "WBC                 0.510143\n",
       "Fibrinogen          0.933848\n",
       "Platelets           0.509442\n",
       "Age                 0.000000\n",
       "Gender              0.000000\n",
       "Unit1               0.284787\n",
       "Unit2               0.284787\n",
       "HospAdmTime         0.000000\n",
       "ICULOS              0.000000\n",
       "SepsisLabel         0.000000\n",
       "dtype: float64"
      ]
     },
     "execution_count": 31,
     "metadata": {},
     "output_type": "execute_result"
    }
   ],
   "source": [
    "p_data.isna().sum()/p_data.shape[0]"
   ]
  },
  {
   "cell_type": "code",
   "execution_count": 32,
   "metadata": {},
   "outputs": [
    {
     "ename": "ValueError",
     "evalue": "Invalid fill method. Expecting pad (ffill) or backfill (bfill). Got mean",
     "output_type": "error",
     "traceback": [
      "\u001b[1;31m---------------------------------------------------------------------------\u001b[0m",
      "\u001b[1;31mValueError\u001b[0m                                Traceback (most recent call last)",
      "\u001b[1;32m<ipython-input-32-c69c522597d4>\u001b[0m in \u001b[0;36m<module>\u001b[1;34m()\u001b[0m\n\u001b[1;32m----> 1\u001b[1;33m \u001b[0mp_data\u001b[0m\u001b[1;33m.\u001b[0m\u001b[0mfillna\u001b[0m\u001b[1;33m(\u001b[0m\u001b[0mmethod\u001b[0m \u001b[1;33m=\u001b[0m \u001b[1;34m'mean'\u001b[0m\u001b[1;33m,\u001b[0m \u001b[0minplace\u001b[0m\u001b[1;33m=\u001b[0m\u001b[1;32mTrue\u001b[0m\u001b[1;33m)\u001b[0m\u001b[1;33m\u001b[0m\u001b[0m\n\u001b[0m",
      "\u001b[1;32m~\\AppData\\Local\\Continuum\\anaconda3\\lib\\site-packages\\pandas\\core\\frame.py\u001b[0m in \u001b[0;36mfillna\u001b[1;34m(self, value, method, axis, inplace, limit, downcast, **kwargs)\u001b[0m\n\u001b[0;32m   3785\u001b[0m                      \u001b[0mself\u001b[0m\u001b[1;33m)\u001b[0m\u001b[1;33m.\u001b[0m\u001b[0mfillna\u001b[0m\u001b[1;33m(\u001b[0m\u001b[0mvalue\u001b[0m\u001b[1;33m=\u001b[0m\u001b[0mvalue\u001b[0m\u001b[1;33m,\u001b[0m \u001b[0mmethod\u001b[0m\u001b[1;33m=\u001b[0m\u001b[0mmethod\u001b[0m\u001b[1;33m,\u001b[0m \u001b[0maxis\u001b[0m\u001b[1;33m=\u001b[0m\u001b[0maxis\u001b[0m\u001b[1;33m,\u001b[0m\u001b[1;33m\u001b[0m\u001b[0m\n\u001b[0;32m   3786\u001b[0m                                   \u001b[0minplace\u001b[0m\u001b[1;33m=\u001b[0m\u001b[0minplace\u001b[0m\u001b[1;33m,\u001b[0m \u001b[0mlimit\u001b[0m\u001b[1;33m=\u001b[0m\u001b[0mlimit\u001b[0m\u001b[1;33m,\u001b[0m\u001b[1;33m\u001b[0m\u001b[0m\n\u001b[1;32m-> 3787\u001b[1;33m                                   downcast=downcast, **kwargs)\n\u001b[0m\u001b[0;32m   3788\u001b[0m \u001b[1;33m\u001b[0m\u001b[0m\n\u001b[0;32m   3789\u001b[0m     \u001b[1;33m@\u001b[0m\u001b[0mAppender\u001b[0m\u001b[1;33m(\u001b[0m\u001b[0m_shared_docs\u001b[0m\u001b[1;33m[\u001b[0m\u001b[1;34m'replace'\u001b[0m\u001b[1;33m]\u001b[0m \u001b[1;33m%\u001b[0m \u001b[0m_shared_doc_kwargs\u001b[0m\u001b[1;33m)\u001b[0m\u001b[1;33m\u001b[0m\u001b[0m\n",
      "\u001b[1;32m~\\AppData\\Local\\Continuum\\anaconda3\\lib\\site-packages\\pandas\\core\\generic.py\u001b[0m in \u001b[0;36mfillna\u001b[1;34m(self, value, method, axis, inplace, limit, downcast)\u001b[0m\n\u001b[0;32m   5342\u001b[0m         \"\"\"\n\u001b[0;32m   5343\u001b[0m         \u001b[0minplace\u001b[0m \u001b[1;33m=\u001b[0m \u001b[0mvalidate_bool_kwarg\u001b[0m\u001b[1;33m(\u001b[0m\u001b[0minplace\u001b[0m\u001b[1;33m,\u001b[0m \u001b[1;34m'inplace'\u001b[0m\u001b[1;33m)\u001b[0m\u001b[1;33m\u001b[0m\u001b[0m\n\u001b[1;32m-> 5344\u001b[1;33m         \u001b[0mvalue\u001b[0m\u001b[1;33m,\u001b[0m \u001b[0mmethod\u001b[0m \u001b[1;33m=\u001b[0m \u001b[0mvalidate_fillna_kwargs\u001b[0m\u001b[1;33m(\u001b[0m\u001b[0mvalue\u001b[0m\u001b[1;33m,\u001b[0m \u001b[0mmethod\u001b[0m\u001b[1;33m)\u001b[0m\u001b[1;33m\u001b[0m\u001b[0m\n\u001b[0m\u001b[0;32m   5345\u001b[0m \u001b[1;33m\u001b[0m\u001b[0m\n\u001b[0;32m   5346\u001b[0m         \u001b[0mself\u001b[0m\u001b[1;33m.\u001b[0m\u001b[0m_consolidate_inplace\u001b[0m\u001b[1;33m(\u001b[0m\u001b[1;33m)\u001b[0m\u001b[1;33m\u001b[0m\u001b[0m\n",
      "\u001b[1;32m~\\AppData\\Local\\Continuum\\anaconda3\\lib\\site-packages\\pandas\\util\\_validators.py\u001b[0m in \u001b[0;36mvalidate_fillna_kwargs\u001b[1;34m(value, method, validate_scalar_dict_value)\u001b[0m\n\u001b[0;32m    346\u001b[0m         \u001b[1;32mraise\u001b[0m \u001b[0mValueError\u001b[0m\u001b[1;33m(\u001b[0m\u001b[1;34m\"Must specify a fill 'value' or 'method'.\"\u001b[0m\u001b[1;33m)\u001b[0m\u001b[1;33m\u001b[0m\u001b[0m\n\u001b[0;32m    347\u001b[0m     \u001b[1;32melif\u001b[0m \u001b[0mvalue\u001b[0m \u001b[1;32mis\u001b[0m \u001b[1;32mNone\u001b[0m \u001b[1;32mand\u001b[0m \u001b[0mmethod\u001b[0m \u001b[1;32mis\u001b[0m \u001b[1;32mnot\u001b[0m \u001b[1;32mNone\u001b[0m\u001b[1;33m:\u001b[0m\u001b[1;33m\u001b[0m\u001b[0m\n\u001b[1;32m--> 348\u001b[1;33m         \u001b[0mmethod\u001b[0m \u001b[1;33m=\u001b[0m \u001b[0mclean_fill_method\u001b[0m\u001b[1;33m(\u001b[0m\u001b[0mmethod\u001b[0m\u001b[1;33m)\u001b[0m\u001b[1;33m\u001b[0m\u001b[0m\n\u001b[0m\u001b[0;32m    349\u001b[0m \u001b[1;33m\u001b[0m\u001b[0m\n\u001b[0;32m    350\u001b[0m     \u001b[1;32melif\u001b[0m \u001b[0mvalue\u001b[0m \u001b[1;32mis\u001b[0m \u001b[1;32mnot\u001b[0m \u001b[1;32mNone\u001b[0m \u001b[1;32mand\u001b[0m \u001b[0mmethod\u001b[0m \u001b[1;32mis\u001b[0m \u001b[1;32mNone\u001b[0m\u001b[1;33m:\u001b[0m\u001b[1;33m\u001b[0m\u001b[0m\n",
      "\u001b[1;32m~\\AppData\\Local\\Continuum\\anaconda3\\lib\\site-packages\\pandas\\core\\missing.py\u001b[0m in \u001b[0;36mclean_fill_method\u001b[1;34m(method, allow_nearest)\u001b[0m\n\u001b[0;32m     92\u001b[0m         msg = ('Invalid fill method. Expecting {expecting}. Got {method}'\n\u001b[0;32m     93\u001b[0m                .format(expecting=expecting, method=method))\n\u001b[1;32m---> 94\u001b[1;33m         \u001b[1;32mraise\u001b[0m \u001b[0mValueError\u001b[0m\u001b[1;33m(\u001b[0m\u001b[0mmsg\u001b[0m\u001b[1;33m)\u001b[0m\u001b[1;33m\u001b[0m\u001b[0m\n\u001b[0m\u001b[0;32m     95\u001b[0m     \u001b[1;32mreturn\u001b[0m \u001b[0mmethod\u001b[0m\u001b[1;33m\u001b[0m\u001b[0m\n\u001b[0;32m     96\u001b[0m \u001b[1;33m\u001b[0m\u001b[0m\n",
      "\u001b[1;31mValueError\u001b[0m: Invalid fill method. Expecting pad (ffill) or backfill (bfill). Got mean"
     ]
    }
   ],
   "source": [
    "p_data.fillna(method = 'mean', inplace=True)"
   ]
  },
  {
   "cell_type": "code",
   "execution_count": null,
   "metadata": {},
   "outputs": [],
   "source": []
  }
 ],
 "metadata": {
  "kernelspec": {
   "display_name": "Python 3",
   "language": "python",
   "name": "python3"
  },
  "language_info": {
   "codemirror_mode": {
    "name": "ipython",
    "version": 3
   },
   "file_extension": ".py",
   "mimetype": "text/x-python",
   "name": "python",
   "nbconvert_exporter": "python",
   "pygments_lexer": "ipython3",
   "version": "3.6.5"
  }
 },
 "nbformat": 4,
 "nbformat_minor": 2
}
